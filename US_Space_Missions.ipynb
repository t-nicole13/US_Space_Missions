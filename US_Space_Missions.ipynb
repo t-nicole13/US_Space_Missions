{
 "cells": [
  {
   "cell_type": "code",
   "execution_count": 1,
   "id": "a2039531",
   "metadata": {},
   "outputs": [],
   "source": [
    "# import dependencies\n",
    "import pandas as pd\n",
    "import datetime\n",
    "import seaborn as sb\n"
   ]
  },
  {
   "cell_type": "code",
   "execution_count": 2,
   "id": "fdfcefa3",
   "metadata": {},
   "outputs": [],
   "source": [
    "# import csv file\n",
    "file = 'space_missions.csv'\n",
    "space_missions_df = pd.read_csv(file, encoding = 'iso8859-1')"
   ]
  },
  {
   "cell_type": "code",
   "execution_count": 3,
   "id": "f8e9cdcb",
   "metadata": {},
   "outputs": [
    {
     "data": {
      "text/html": [
       "<div>\n",
       "<style scoped>\n",
       "    .dataframe tbody tr th:only-of-type {\n",
       "        vertical-align: middle;\n",
       "    }\n",
       "\n",
       "    .dataframe tbody tr th {\n",
       "        vertical-align: top;\n",
       "    }\n",
       "\n",
       "    .dataframe thead th {\n",
       "        text-align: right;\n",
       "    }\n",
       "</style>\n",
       "<table border=\"1\" class=\"dataframe\">\n",
       "  <thead>\n",
       "    <tr style=\"text-align: right;\">\n",
       "      <th></th>\n",
       "      <th>Company</th>\n",
       "      <th>Location</th>\n",
       "      <th>Date</th>\n",
       "      <th>Time</th>\n",
       "      <th>Rocket</th>\n",
       "      <th>Mission</th>\n",
       "      <th>RocketStatus</th>\n",
       "      <th>Price</th>\n",
       "      <th>MissionStatus</th>\n",
       "    </tr>\n",
       "  </thead>\n",
       "  <tbody>\n",
       "    <tr>\n",
       "      <th>1354</th>\n",
       "      <td>RVSN USSR</td>\n",
       "      <td>Site 41/1, Plesetsk Cosmodrome, Russia</td>\n",
       "      <td>1975-01-23</td>\n",
       "      <td>11:00:00</td>\n",
       "      <td>Voskhod</td>\n",
       "      <td>Cosmos 704</td>\n",
       "      <td>Retired</td>\n",
       "      <td>NaN</td>\n",
       "      <td>Success</td>\n",
       "    </tr>\n",
       "    <tr>\n",
       "      <th>4587</th>\n",
       "      <td>SpaceX</td>\n",
       "      <td>LC-39A, Kennedy Space Center, Florida, USA</td>\n",
       "      <td>2022-05-06</td>\n",
       "      <td>09:42:00</td>\n",
       "      <td>Falcon 9 Block 5</td>\n",
       "      <td>Starlink Group 4-17</td>\n",
       "      <td>Active</td>\n",
       "      <td>67</td>\n",
       "      <td>Success</td>\n",
       "    </tr>\n",
       "    <tr>\n",
       "      <th>3166</th>\n",
       "      <td>VKS RF</td>\n",
       "      <td>Site 32/1, Plesetsk Cosmodrome, Russia</td>\n",
       "      <td>2000-12-27</td>\n",
       "      <td>18:56:00</td>\n",
       "      <td>Tsyklon-3</td>\n",
       "      <td>Cosmos 2377 to 2379 &amp; Gonets 7 to 9</td>\n",
       "      <td>Retired</td>\n",
       "      <td>NaN</td>\n",
       "      <td>Failure</td>\n",
       "    </tr>\n",
       "    <tr>\n",
       "      <th>966</th>\n",
       "      <td>ASI</td>\n",
       "      <td>Santa Rita 2, San Marco Launch Platform, Kenya</td>\n",
       "      <td>1971-04-24</td>\n",
       "      <td>07:32:00</td>\n",
       "      <td>Scout B</td>\n",
       "      <td>San Marco 3</td>\n",
       "      <td>Retired</td>\n",
       "      <td>NaN</td>\n",
       "      <td>Success</td>\n",
       "    </tr>\n",
       "    <tr>\n",
       "      <th>2083</th>\n",
       "      <td>RVSN USSR</td>\n",
       "      <td>Site 132/1, Plesetsk Cosmodrome, Russia</td>\n",
       "      <td>1983-10-26</td>\n",
       "      <td>17:20:00</td>\n",
       "      <td>Cosmos-3M (11K65M)</td>\n",
       "      <td>Cosmos 1506</td>\n",
       "      <td>Retired</td>\n",
       "      <td>NaN</td>\n",
       "      <td>Success</td>\n",
       "    </tr>\n",
       "  </tbody>\n",
       "</table>\n",
       "</div>"
      ],
      "text/plain": [
       "        Company                                        Location        Date  \\\n",
       "1354  RVSN USSR          Site 41/1, Plesetsk Cosmodrome, Russia  1975-01-23   \n",
       "4587     SpaceX      LC-39A, Kennedy Space Center, Florida, USA  2022-05-06   \n",
       "3166     VKS RF          Site 32/1, Plesetsk Cosmodrome, Russia  2000-12-27   \n",
       "966         ASI  Santa Rita 2, San Marco Launch Platform, Kenya  1971-04-24   \n",
       "2083  RVSN USSR         Site 132/1, Plesetsk Cosmodrome, Russia  1983-10-26   \n",
       "\n",
       "          Time              Rocket                              Mission  \\\n",
       "1354  11:00:00             Voskhod                           Cosmos 704   \n",
       "4587  09:42:00    Falcon 9 Block 5                  Starlink Group 4-17   \n",
       "3166  18:56:00           Tsyklon-3  Cosmos 2377 to 2379 & Gonets 7 to 9   \n",
       "966   07:32:00             Scout B                          San Marco 3   \n",
       "2083  17:20:00  Cosmos-3M (11K65M)                          Cosmos 1506   \n",
       "\n",
       "     RocketStatus Price MissionStatus  \n",
       "1354      Retired   NaN       Success  \n",
       "4587       Active    67       Success  \n",
       "3166      Retired   NaN       Failure  \n",
       "966       Retired   NaN       Success  \n",
       "2083      Retired   NaN       Success  "
      ]
     },
     "execution_count": 3,
     "metadata": {},
     "output_type": "execute_result"
    }
   ],
   "source": [
    "space_missions_df.sample(5)"
   ]
  },
  {
   "cell_type": "markdown",
   "id": "86285f82",
   "metadata": {},
   "source": [
    "# Cleaning DataFrame"
   ]
  },
  {
   "cell_type": "code",
   "execution_count": 4,
   "id": "6598b8e8",
   "metadata": {},
   "outputs": [
    {
     "data": {
      "text/plain": [
       "Company          4630\n",
       "Location         4630\n",
       "Date             4630\n",
       "Time             4503\n",
       "Rocket           4630\n",
       "Mission          4630\n",
       "RocketStatus     4630\n",
       "Price            1265\n",
       "MissionStatus    4630\n",
       "dtype: int64"
      ]
     },
     "execution_count": 4,
     "metadata": {},
     "output_type": "execute_result"
    }
   ],
   "source": [
    "space_missions_df.count()"
   ]
  },
  {
   "cell_type": "code",
   "execution_count": 5,
   "id": "0d0a29e9",
   "metadata": {},
   "outputs": [
    {
     "data": {
      "text/plain": [
       "0             Site 1/5, Baikonur Cosmodrome, Kazakhstan\n",
       "1             Site 1/5, Baikonur Cosmodrome, Kazakhstan\n",
       "2              LC-18A, Cape Canaveral AFS, Florida, USA\n",
       "3              LC-26A, Cape Canaveral AFS, Florida, USA\n",
       "4              LC-18A, Cape Canaveral AFS, Florida, USA\n",
       "                             ...                       \n",
       "4625            SLC-4E, Vandenberg SFB, California, USA\n",
       "4626    LC-101, Wenchang Satellite Launch Center, China\n",
       "4627         LC-39A, Kennedy Space Center, Florida, USA\n",
       "4628             Jiuquan Satellite Launch Center, China\n",
       "4629       LC-3, Xichang Satellite Launch Center, China\n",
       "Name: Location, Length: 4630, dtype: object"
      ]
     },
     "execution_count": 5,
     "metadata": {},
     "output_type": "execute_result"
    }
   ],
   "source": [
    "space_missions_df['Location']"
   ]
  },
  {
   "cell_type": "code",
   "execution_count": 6,
   "id": "6a00bcaf",
   "metadata": {},
   "outputs": [
    {
     "data": {
      "text/plain": [
       "0       False\n",
       "1       False\n",
       "2        True\n",
       "3        True\n",
       "4        True\n",
       "        ...  \n",
       "4625     True\n",
       "4626    False\n",
       "4627     True\n",
       "4628    False\n",
       "4629    False\n",
       "Name: Location, Length: 4630, dtype: bool"
      ]
     },
     "execution_count": 6,
     "metadata": {},
     "output_type": "execute_result"
    }
   ],
   "source": [
    "space_missions_df.Location.str.contains('USA')"
   ]
  },
  {
   "cell_type": "markdown",
   "id": "d6c6fbb3",
   "metadata": {},
   "source": [
    "**Create DataFrame for USA Companies Only**"
   ]
  },
  {
   "cell_type": "code",
   "execution_count": 7,
   "id": "3044a327",
   "metadata": {},
   "outputs": [
    {
     "data": {
      "text/html": [
       "<div>\n",
       "<style scoped>\n",
       "    .dataframe tbody tr th:only-of-type {\n",
       "        vertical-align: middle;\n",
       "    }\n",
       "\n",
       "    .dataframe tbody tr th {\n",
       "        vertical-align: top;\n",
       "    }\n",
       "\n",
       "    .dataframe thead th {\n",
       "        text-align: right;\n",
       "    }\n",
       "</style>\n",
       "<table border=\"1\" class=\"dataframe\">\n",
       "  <thead>\n",
       "    <tr style=\"text-align: right;\">\n",
       "      <th></th>\n",
       "      <th>Company</th>\n",
       "      <th>Location</th>\n",
       "      <th>Date</th>\n",
       "      <th>Time</th>\n",
       "      <th>Rocket</th>\n",
       "      <th>Mission</th>\n",
       "      <th>RocketStatus</th>\n",
       "      <th>Price</th>\n",
       "      <th>MissionStatus</th>\n",
       "    </tr>\n",
       "  </thead>\n",
       "  <tbody>\n",
       "    <tr>\n",
       "      <th>2018</th>\n",
       "      <td>General Dynamics</td>\n",
       "      <td>SLC-36B, Cape Canaveral AFS, Florida, USA</td>\n",
       "      <td>1982-09-28</td>\n",
       "      <td>23:17:00</td>\n",
       "      <td>Atlas-SLV3D Centaur-D1AR</td>\n",
       "      <td>Intelsat V -505</td>\n",
       "      <td>Retired</td>\n",
       "      <td>NaN</td>\n",
       "      <td>Success</td>\n",
       "    </tr>\n",
       "    <tr>\n",
       "      <th>3645</th>\n",
       "      <td>ULA</td>\n",
       "      <td>SLC-41, Cape Canaveral AFS, Florida, USA</td>\n",
       "      <td>2011-08-05</td>\n",
       "      <td>16:25:00</td>\n",
       "      <td>Atlas V 551</td>\n",
       "      <td>Juno</td>\n",
       "      <td>Active</td>\n",
       "      <td>153</td>\n",
       "      <td>Success</td>\n",
       "    </tr>\n",
       "    <tr>\n",
       "      <th>763</th>\n",
       "      <td>NASA</td>\n",
       "      <td>LC-39B, Kennedy Space Center, Florida, USA</td>\n",
       "      <td>1969-05-18</td>\n",
       "      <td>16:49:00</td>\n",
       "      <td>Saturn V</td>\n",
       "      <td>Apollo 10</td>\n",
       "      <td>Retired</td>\n",
       "      <td>1,160.00</td>\n",
       "      <td>Success</td>\n",
       "    </tr>\n",
       "    <tr>\n",
       "      <th>1435</th>\n",
       "      <td>General Dynamics</td>\n",
       "      <td>SLC-36B, Cape Canaveral AFS, Florida, USA</td>\n",
       "      <td>1975-09-26</td>\n",
       "      <td>00:17:00</td>\n",
       "      <td>Atlas-SLV3D Centaur-D1AR</td>\n",
       "      <td>Intelsat 4A F1</td>\n",
       "      <td>Retired</td>\n",
       "      <td>NaN</td>\n",
       "      <td>Success</td>\n",
       "    </tr>\n",
       "    <tr>\n",
       "      <th>210</th>\n",
       "      <td>US Air Force</td>\n",
       "      <td>SLC-17A, Cape Canaveral AFS, Florida, USA</td>\n",
       "      <td>1962-10-31</td>\n",
       "      <td>08:08:00</td>\n",
       "      <td>Thor-DM21 Ablestar</td>\n",
       "      <td>ANNA 1B</td>\n",
       "      <td>Retired</td>\n",
       "      <td>NaN</td>\n",
       "      <td>Success</td>\n",
       "    </tr>\n",
       "  </tbody>\n",
       "</table>\n",
       "</div>"
      ],
      "text/plain": [
       "               Company                                    Location  \\\n",
       "2018  General Dynamics   SLC-36B, Cape Canaveral AFS, Florida, USA   \n",
       "3645               ULA    SLC-41, Cape Canaveral AFS, Florida, USA   \n",
       "763               NASA  LC-39B, Kennedy Space Center, Florida, USA   \n",
       "1435  General Dynamics   SLC-36B, Cape Canaveral AFS, Florida, USA   \n",
       "210       US Air Force   SLC-17A, Cape Canaveral AFS, Florida, USA   \n",
       "\n",
       "            Date      Time                    Rocket          Mission  \\\n",
       "2018  1982-09-28  23:17:00  Atlas-SLV3D Centaur-D1AR  Intelsat V -505   \n",
       "3645  2011-08-05  16:25:00               Atlas V 551             Juno   \n",
       "763   1969-05-18  16:49:00                  Saturn V        Apollo 10   \n",
       "1435  1975-09-26  00:17:00  Atlas-SLV3D Centaur-D1AR   Intelsat 4A F1   \n",
       "210   1962-10-31  08:08:00        Thor-DM21 Ablestar          ANNA 1B   \n",
       "\n",
       "     RocketStatus     Price MissionStatus  \n",
       "2018      Retired       NaN       Success  \n",
       "3645       Active       153       Success  \n",
       "763       Retired  1,160.00       Success  \n",
       "1435      Retired       NaN       Success  \n",
       "210       Retired       NaN       Success  "
      ]
     },
     "execution_count": 7,
     "metadata": {},
     "output_type": "execute_result"
    }
   ],
   "source": [
    "usa_space_missions_df = space_missions_df[space_missions_df['Location'].str.contains('USA')]\n",
    "usa_space_missions_df.sample(5)"
   ]
  },
  {
   "cell_type": "code",
   "execution_count": 8,
   "id": "186f05d5",
   "metadata": {},
   "outputs": [
    {
     "data": {
      "text/plain": [
       "Company          1467\n",
       "Location         1467\n",
       "Date             1467\n",
       "Time             1444\n",
       "Rocket           1467\n",
       "Mission          1467\n",
       "RocketStatus     1467\n",
       "Price             591\n",
       "MissionStatus    1467\n",
       "dtype: int64"
      ]
     },
     "execution_count": 8,
     "metadata": {},
     "output_type": "execute_result"
    }
   ],
   "source": [
    "usa_space_missions_df.count()"
   ]
  },
  {
   "cell_type": "markdown",
   "id": "188b3bbe",
   "metadata": {},
   "source": [
    "**Remove 'Price' and 'Time' Columns, Too Many NaNs**"
   ]
  },
  {
   "cell_type": "code",
   "execution_count": 9,
   "id": "395430d6",
   "metadata": {},
   "outputs": [
    {
     "data": {
      "text/plain": [
       "Company            0\n",
       "Location           0\n",
       "Date               0\n",
       "Time              23\n",
       "Rocket             0\n",
       "Mission            0\n",
       "RocketStatus       0\n",
       "Price            876\n",
       "MissionStatus      0\n",
       "dtype: int64"
      ]
     },
     "execution_count": 9,
     "metadata": {},
     "output_type": "execute_result"
    }
   ],
   "source": [
    "usa_space_missions_df.isnull().sum()"
   ]
  },
  {
   "cell_type": "code",
   "execution_count": 10,
   "id": "5df48b4b",
   "metadata": {},
   "outputs": [
    {
     "data": {
      "text/html": [
       "<div>\n",
       "<style scoped>\n",
       "    .dataframe tbody tr th:only-of-type {\n",
       "        vertical-align: middle;\n",
       "    }\n",
       "\n",
       "    .dataframe tbody tr th {\n",
       "        vertical-align: top;\n",
       "    }\n",
       "\n",
       "    .dataframe thead th {\n",
       "        text-align: right;\n",
       "    }\n",
       "</style>\n",
       "<table border=\"1\" class=\"dataframe\">\n",
       "  <thead>\n",
       "    <tr style=\"text-align: right;\">\n",
       "      <th></th>\n",
       "      <th>Company</th>\n",
       "      <th>Location</th>\n",
       "      <th>Date</th>\n",
       "      <th>Rocket</th>\n",
       "      <th>Mission</th>\n",
       "      <th>RocketStatus</th>\n",
       "      <th>MissionStatus</th>\n",
       "    </tr>\n",
       "  </thead>\n",
       "  <tbody>\n",
       "    <tr>\n",
       "      <th>2496</th>\n",
       "      <td>Boeing</td>\n",
       "      <td>SLC-17B, Cape Canaveral AFS, Florida, USA</td>\n",
       "      <td>1990-04-13</td>\n",
       "      <td>Delta II 6925-8</td>\n",
       "      <td>Palapa B2R</td>\n",
       "      <td>Retired</td>\n",
       "      <td>Success</td>\n",
       "    </tr>\n",
       "    <tr>\n",
       "      <th>3631</th>\n",
       "      <td>ULA</td>\n",
       "      <td>SLC-37B, Cape Canaveral AFS, Florida, USA</td>\n",
       "      <td>2011-03-11</td>\n",
       "      <td>Delta IV Medium+ (4,2)</td>\n",
       "      <td>NROL-27</td>\n",
       "      <td>Retired</td>\n",
       "      <td>Success</td>\n",
       "    </tr>\n",
       "    <tr>\n",
       "      <th>2</th>\n",
       "      <td>US Navy</td>\n",
       "      <td>LC-18A, Cape Canaveral AFS, Florida, USA</td>\n",
       "      <td>1957-12-06</td>\n",
       "      <td>Vanguard</td>\n",
       "      <td>Vanguard TV3</td>\n",
       "      <td>Retired</td>\n",
       "      <td>Failure</td>\n",
       "    </tr>\n",
       "    <tr>\n",
       "      <th>1126</th>\n",
       "      <td>Martin Marietta</td>\n",
       "      <td>SLC-4E, Vandenberg AFB, California, USA</td>\n",
       "      <td>1972-10-10</td>\n",
       "      <td>Titan IIID</td>\n",
       "      <td>KH-9 &amp; SSF-C-3</td>\n",
       "      <td>Retired</td>\n",
       "      <td>Success</td>\n",
       "    </tr>\n",
       "    <tr>\n",
       "      <th>3743</th>\n",
       "      <td>SpaceX</td>\n",
       "      <td>SLC-40, Cape Canaveral AFS, Florida, USA</td>\n",
       "      <td>2013-12-03</td>\n",
       "      <td>Falcon 9 v1.1</td>\n",
       "      <td>SES-8</td>\n",
       "      <td>Retired</td>\n",
       "      <td>Success</td>\n",
       "    </tr>\n",
       "  </tbody>\n",
       "</table>\n",
       "</div>"
      ],
      "text/plain": [
       "              Company                                   Location        Date  \\\n",
       "2496           Boeing  SLC-17B, Cape Canaveral AFS, Florida, USA  1990-04-13   \n",
       "3631              ULA  SLC-37B, Cape Canaveral AFS, Florida, USA  2011-03-11   \n",
       "2             US Navy   LC-18A, Cape Canaveral AFS, Florida, USA  1957-12-06   \n",
       "1126  Martin Marietta    SLC-4E, Vandenberg AFB, California, USA  1972-10-10   \n",
       "3743           SpaceX   SLC-40, Cape Canaveral AFS, Florida, USA  2013-12-03   \n",
       "\n",
       "                      Rocket         Mission RocketStatus MissionStatus  \n",
       "2496         Delta II 6925-8      Palapa B2R      Retired       Success  \n",
       "3631  Delta IV Medium+ (4,2)         NROL-27      Retired       Success  \n",
       "2                   Vanguard    Vanguard TV3      Retired       Failure  \n",
       "1126              Titan IIID  KH-9 & SSF-C-3      Retired       Success  \n",
       "3743           Falcon 9 v1.1           SES-8      Retired       Success  "
      ]
     },
     "execution_count": 10,
     "metadata": {},
     "output_type": "execute_result"
    }
   ],
   "source": [
    "usa_space_missions_dropped = usa_space_missions_df.drop(['Time', 'Price'], axis = 1)\n",
    "usa_space_missions_dropped.sample(5)"
   ]
  },
  {
   "cell_type": "markdown",
   "id": "c97e3325",
   "metadata": {},
   "source": [
    "**Convert Date to Month**"
   ]
  },
  {
   "cell_type": "code",
   "execution_count": 11,
   "id": "6d3d7bd2",
   "metadata": {},
   "outputs": [],
   "source": [
    "usa_space_missions_dropped['Year'] = pd.DatetimeIndex(usa_space_missions_dropped['Date']).year"
   ]
  },
  {
   "cell_type": "code",
   "execution_count": 12,
   "id": "47adba41",
   "metadata": {},
   "outputs": [
    {
     "data": {
      "text/html": [
       "<div>\n",
       "<style scoped>\n",
       "    .dataframe tbody tr th:only-of-type {\n",
       "        vertical-align: middle;\n",
       "    }\n",
       "\n",
       "    .dataframe tbody tr th {\n",
       "        vertical-align: top;\n",
       "    }\n",
       "\n",
       "    .dataframe thead th {\n",
       "        text-align: right;\n",
       "    }\n",
       "</style>\n",
       "<table border=\"1\" class=\"dataframe\">\n",
       "  <thead>\n",
       "    <tr style=\"text-align: right;\">\n",
       "      <th></th>\n",
       "      <th>Company</th>\n",
       "      <th>Location</th>\n",
       "      <th>Date</th>\n",
       "      <th>Rocket</th>\n",
       "      <th>Mission</th>\n",
       "      <th>RocketStatus</th>\n",
       "      <th>MissionStatus</th>\n",
       "      <th>Year</th>\n",
       "    </tr>\n",
       "  </thead>\n",
       "  <tbody>\n",
       "    <tr>\n",
       "      <th>4552</th>\n",
       "      <td>Northrop</td>\n",
       "      <td>LP-0A, Wallops Flight Facility, Virginia, USA</td>\n",
       "      <td>2022-02-19</td>\n",
       "      <td>Antares 230+</td>\n",
       "      <td>CRS NG-17</td>\n",
       "      <td>Active</td>\n",
       "      <td>Success</td>\n",
       "      <td>2022</td>\n",
       "    </tr>\n",
       "    <tr>\n",
       "      <th>4009</th>\n",
       "      <td>SpaceX</td>\n",
       "      <td>LC-39A, Kennedy Space Center, Florida, USA</td>\n",
       "      <td>2017-10-11</td>\n",
       "      <td>Falcon 9 Block 3</td>\n",
       "      <td>SES-11 / EchoStar 105</td>\n",
       "      <td>Retired</td>\n",
       "      <td>Success</td>\n",
       "      <td>2017</td>\n",
       "    </tr>\n",
       "    <tr>\n",
       "      <th>351</th>\n",
       "      <td>General Dynamics</td>\n",
       "      <td>SLC-4E, Vandenberg AFB, California, USA</td>\n",
       "      <td>1965-04-28</td>\n",
       "      <td>Atlas-SLV3 Agena-D</td>\n",
       "      <td>KH-7 Gambit 4017</td>\n",
       "      <td>Retired</td>\n",
       "      <td>Success</td>\n",
       "      <td>1965</td>\n",
       "    </tr>\n",
       "    <tr>\n",
       "      <th>3986</th>\n",
       "      <td>SpaceX</td>\n",
       "      <td>LC-39A, Kennedy Space Center, Florida, USA</td>\n",
       "      <td>2017-07-05</td>\n",
       "      <td>Falcon 9 Block 3</td>\n",
       "      <td>Intelsat 35e</td>\n",
       "      <td>Retired</td>\n",
       "      <td>Success</td>\n",
       "      <td>2017</td>\n",
       "    </tr>\n",
       "    <tr>\n",
       "      <th>69</th>\n",
       "      <td>US Air Force</td>\n",
       "      <td>SLC-1W (75-3-4), Vandenberg AFB, California, USA</td>\n",
       "      <td>1960-08-18</td>\n",
       "      <td>Thor-DM18 Agena-A</td>\n",
       "      <td>Discoverer 14</td>\n",
       "      <td>Retired</td>\n",
       "      <td>Success</td>\n",
       "      <td>1960</td>\n",
       "    </tr>\n",
       "  </tbody>\n",
       "</table>\n",
       "</div>"
      ],
      "text/plain": [
       "               Company                                          Location  \\\n",
       "4552          Northrop     LP-0A, Wallops Flight Facility, Virginia, USA   \n",
       "4009            SpaceX        LC-39A, Kennedy Space Center, Florida, USA   \n",
       "351   General Dynamics           SLC-4E, Vandenberg AFB, California, USA   \n",
       "3986            SpaceX        LC-39A, Kennedy Space Center, Florida, USA   \n",
       "69        US Air Force  SLC-1W (75-3-4), Vandenberg AFB, California, USA   \n",
       "\n",
       "            Date              Rocket                Mission RocketStatus  \\\n",
       "4552  2022-02-19        Antares 230+              CRS NG-17       Active   \n",
       "4009  2017-10-11    Falcon 9 Block 3  SES-11 / EchoStar 105      Retired   \n",
       "351   1965-04-28  Atlas-SLV3 Agena-D       KH-7 Gambit 4017      Retired   \n",
       "3986  2017-07-05    Falcon 9 Block 3           Intelsat 35e      Retired   \n",
       "69    1960-08-18   Thor-DM18 Agena-A          Discoverer 14      Retired   \n",
       "\n",
       "     MissionStatus  Year  \n",
       "4552       Success  2022  \n",
       "4009       Success  2017  \n",
       "351        Success  1965  \n",
       "3986       Success  2017  \n",
       "69         Success  1960  "
      ]
     },
     "execution_count": 12,
     "metadata": {},
     "output_type": "execute_result"
    }
   ],
   "source": [
    "usa_space_missions_dropped.sample(5)"
   ]
  },
  {
   "cell_type": "markdown",
   "id": "58d333d4",
   "metadata": {},
   "source": [
    "# Analysis"
   ]
  },
  {
   "cell_type": "markdown",
   "id": "5e635acf",
   "metadata": {},
   "source": [
    "**Total Number of Missions**"
   ]
  },
  {
   "cell_type": "code",
   "execution_count": 13,
   "id": "317691d7",
   "metadata": {},
   "outputs": [
    {
     "data": {
      "text/plain": [
       "1467"
      ]
     },
     "execution_count": 13,
     "metadata": {},
     "output_type": "execute_result"
    }
   ],
   "source": [
    "total_missions = usa_space_missions_dropped.MissionStatus.count()\n",
    "total_missions"
   ]
  },
  {
   "cell_type": "markdown",
   "id": "cab476b1",
   "metadata": {},
   "source": [
    "**Total Number of Companies**"
   ]
  },
  {
   "cell_type": "code",
   "execution_count": 14,
   "id": "25634d9c",
   "metadata": {},
   "outputs": [
    {
     "data": {
      "text/plain": [
       "19"
      ]
     },
     "execution_count": 14,
     "metadata": {},
     "output_type": "execute_result"
    }
   ],
   "source": [
    "total_companies = usa_space_missions_dropped.Company.nunique()\n",
    "total_companies"
   ]
  },
  {
   "cell_type": "markdown",
   "id": "e4511d52",
   "metadata": {},
   "source": [
    "**How Many Missions Occured Per Year?**"
   ]
  },
  {
   "cell_type": "code",
   "execution_count": 15,
   "id": "cef184f9",
   "metadata": {},
   "outputs": [
    {
     "name": "stdout",
     "output_type": "stream",
     "text": [
      "Year\n",
      "1957     1\n",
      "1958    23\n",
      "1959    16\n",
      "1960    30\n",
      "1961    43\n",
      "1962    60\n",
      "1963    17\n",
      "1964    24\n",
      "1965    33\n",
      "1966    47\n",
      "1967    26\n",
      "1968    22\n",
      "1969    17\n",
      "1970    11\n",
      "1971    16\n",
      "1972    17\n",
      "1973    17\n",
      "1974    10\n",
      "1975    15\n",
      "1976    13\n",
      "1977    14\n",
      "1978    21\n",
      "1979     9\n",
      "1980    11\n",
      "1981    13\n",
      "1982    11\n",
      "1983    13\n",
      "1984    17\n",
      "1985    16\n",
      "1986     6\n",
      "1987     6\n",
      "1988     7\n",
      "1989    16\n",
      "1990    26\n",
      "1991    18\n",
      "1992    27\n",
      "1993    24\n",
      "1994    26\n",
      "1995    30\n",
      "1996    33\n",
      "1997    36\n",
      "1998    36\n",
      "1999    31\n",
      "2000    28\n",
      "2001    22\n",
      "2002    17\n",
      "2003    23\n",
      "2004    16\n",
      "2005    12\n",
      "2006    18\n",
      "2007    19\n",
      "2008    15\n",
      "2009    25\n",
      "2010    15\n",
      "2011    18\n",
      "2012    13\n",
      "2013    19\n",
      "2014    23\n",
      "2015    21\n",
      "2016    27\n",
      "2017    30\n",
      "2018    33\n",
      "2019    24\n",
      "2020    42\n",
      "2021    57\n",
      "2022    45\n"
     ]
    }
   ],
   "source": [
    "missions_per_year = usa_space_missions_dropped.groupby('Year').Year.count()\n",
    "print(missions_per_year.to_string())"
   ]
  },
  {
   "cell_type": "markdown",
   "id": "e9df058d",
   "metadata": {},
   "source": [
    "**How Many Missions Did Each Company Have?**"
   ]
  },
  {
   "cell_type": "code",
   "execution_count": 16,
   "id": "a685a0d7",
   "metadata": {},
   "outputs": [
    {
     "data": {
      "text/plain": [
       "Company\n",
       "AMBA                  7\n",
       "Astra                 7\n",
       "Blue Origin          21\n",
       "Boeing              136\n",
       "Douglas               1\n",
       "EER                   1\n",
       "Firefly               1\n",
       "General Dynamics    251\n",
       "ILS                  40\n",
       "Lockheed             79\n",
       "Martin Marietta     114\n",
       "NASA                203\n",
       "Northrop             87\n",
       "SpaceX              182\n",
       "ULA                 151\n",
       "US Air Force        161\n",
       "US Navy              17\n",
       "Virgin Galactic       3\n",
       "Virgin Orbit          5\n",
       "Name: Mission, dtype: int64"
      ]
     },
     "execution_count": 16,
     "metadata": {},
     "output_type": "execute_result"
    }
   ],
   "source": [
    "missions_per_company = usa_space_missions_dropped.groupby('Company').Mission.count()\n",
    "missions_per_company"
   ]
  },
  {
   "cell_type": "markdown",
   "id": "ab6297d8",
   "metadata": {},
   "source": [
    "**How Many Failed Missions?**"
   ]
  },
  {
   "cell_type": "code",
   "execution_count": 17,
   "id": "b49b1395",
   "metadata": {},
   "outputs": [
    {
     "data": {
      "text/plain": [
       "Company          134\n",
       "Location         134\n",
       "Date             134\n",
       "Rocket           134\n",
       "Mission          134\n",
       "RocketStatus     134\n",
       "MissionStatus    134\n",
       "Year             134\n",
       "dtype: int64"
      ]
     },
     "execution_count": 17,
     "metadata": {},
     "output_type": "execute_result"
    }
   ],
   "source": [
    "total_failed = usa_space_missions_dropped[usa_space_missions_dropped['MissionStatus'] == 'Failure'].count()\n",
    "total_failed"
   ]
  },
  {
   "cell_type": "markdown",
   "id": "2595d853",
   "metadata": {},
   "source": [
    "**How Many Sucessful Missions?**"
   ]
  },
  {
   "cell_type": "code",
   "execution_count": 18,
   "id": "c4e1b715",
   "metadata": {},
   "outputs": [
    {
     "data": {
      "text/plain": [
       "Company          1298\n",
       "Location         1298\n",
       "Date             1298\n",
       "Rocket           1298\n",
       "Mission          1298\n",
       "RocketStatus     1298\n",
       "MissionStatus    1298\n",
       "Year             1298\n",
       "dtype: int64"
      ]
     },
     "execution_count": 18,
     "metadata": {},
     "output_type": "execute_result"
    }
   ],
   "source": [
    "total_success = usa_space_missions_dropped[usa_space_missions_dropped['MissionStatus'] == 'Success'].count()\n",
    "total_success"
   ]
  },
  {
   "cell_type": "markdown",
   "id": "fd463ea4",
   "metadata": {},
   "source": [
    "**How Many Failed Missions Per Year?**"
   ]
  },
  {
   "cell_type": "code",
   "execution_count": 19,
   "id": "f15e47da",
   "metadata": {},
   "outputs": [
    {
     "data": {
      "text/plain": [
       "Year\n",
       "1957     1\n",
       "1958    16\n",
       "1959     8\n",
       "1960    14\n",
       "1961    13\n",
       "1962     8\n",
       "1963     4\n",
       "1964     4\n",
       "1965     6\n",
       "1966     2\n",
       "1967     2\n",
       "1968     1\n",
       "1970     1\n",
       "1971     2\n",
       "1972     2\n",
       "1973     1\n",
       "1974     1\n",
       "1975     3\n",
       "1977     1\n",
       "1978     1\n",
       "1980     2\n",
       "1981     1\n",
       "1984     1\n",
       "1985     1\n",
       "1986     2\n",
       "1987     1\n",
       "1990     1\n",
       "1991     1\n",
       "1992     1\n",
       "1993     3\n",
       "1994     1\n",
       "1995     3\n",
       "1996     1\n",
       "1997     1\n",
       "1998     2\n",
       "1999     4\n",
       "2001     1\n",
       "2003     1\n",
       "2006     1\n",
       "2007     1\n",
       "2008     1\n",
       "2009     1\n",
       "2011     1\n",
       "2014     1\n",
       "2015     1\n",
       "2020     3\n",
       "2021     3\n",
       "2022     2\n",
       "Name: MissionStatus, dtype: int64"
      ]
     },
     "execution_count": 19,
     "metadata": {},
     "output_type": "execute_result"
    }
   ],
   "source": [
    "failed_missions_per_year = usa_space_missions_dropped[usa_space_missions_dropped['MissionStatus'] == 'Failure']\\\n",
    ".groupby('Year').MissionStatus.count()\n",
    "failed_missions_per_year"
   ]
  },
  {
   "cell_type": "markdown",
   "id": "b026dd7c",
   "metadata": {},
   "source": [
    "**How Many Successful Missions Per Year?**"
   ]
  },
  {
   "cell_type": "code",
   "execution_count": 20,
   "id": "d9730ab0",
   "metadata": {},
   "outputs": [
    {
     "name": "stdout",
     "output_type": "stream",
     "text": [
      "Year\n",
      "1958     5\n",
      "1959     6\n",
      "1960    16\n",
      "1961    27\n",
      "1962    50\n",
      "1963    13\n",
      "1964    19\n",
      "1965    26\n",
      "1966    40\n",
      "1967    21\n",
      "1968    19\n",
      "1969    17\n",
      "1970     9\n",
      "1971    14\n",
      "1972    15\n",
      "1973    16\n",
      "1974     9\n",
      "1975    12\n",
      "1976    13\n",
      "1977    13\n",
      "1978    20\n",
      "1979     9\n",
      "1980     9\n",
      "1981    11\n",
      "1982    11\n",
      "1983    13\n",
      "1984    16\n",
      "1985    15\n",
      "1986     4\n",
      "1987     5\n",
      "1988     6\n",
      "1989    16\n",
      "1990    25\n",
      "1991    16\n",
      "1992    26\n",
      "1993    21\n",
      "1994    24\n",
      "1995    26\n",
      "1996    32\n",
      "1997    35\n",
      "1998    34\n",
      "1999    27\n",
      "2000    28\n",
      "2001    21\n",
      "2002    17\n",
      "2003    22\n",
      "2004    15\n",
      "2005    12\n",
      "2006    17\n",
      "2007    17\n",
      "2008    14\n",
      "2009    24\n",
      "2010    15\n",
      "2011    17\n",
      "2012    12\n",
      "2013    19\n",
      "2014    22\n",
      "2015    20\n",
      "2016    26\n",
      "2017    30\n",
      "2018    33\n",
      "2019    24\n",
      "2020    37\n",
      "2021    52\n",
      "2022    43\n"
     ]
    }
   ],
   "source": [
    "successful_missions_per_year = usa_space_missions_dropped[usa_space_missions_dropped['MissionStatus'] == 'Success']\\\n",
    ".groupby('Year').MissionStatus.count()\n",
    "print(successful_missions_per_year.to_string())"
   ]
  },
  {
   "cell_type": "markdown",
   "id": "9056e584",
   "metadata": {},
   "source": [
    "**Companies with the Most Successful Missions**"
   ]
  },
  {
   "cell_type": "code",
   "execution_count": 21,
   "id": "3a6f8066",
   "metadata": {},
   "outputs": [
    {
     "data": {
      "text/plain": [
       "Company\n",
       "AMBA                  3\n",
       "Astra                 2\n",
       "Blue Origin          21\n",
       "Boeing              131\n",
       "Douglas               1\n",
       "General Dynamics    203\n",
       "ILS                  40\n",
       "Lockheed             74\n",
       "Martin Marietta     100\n",
       "NASA                186\n",
       "Northrop             78\n",
       "SpaceX              172\n",
       "ULA                 150\n",
       "US Air Force        129\n",
       "US Navy               2\n",
       "Virgin Galactic       2\n",
       "Virgin Orbit          4\n",
       "Name: MissionStatus, dtype: int64"
      ]
     },
     "execution_count": 21,
     "metadata": {},
     "output_type": "execute_result"
    }
   ],
   "source": [
    "companies_success_missions = usa_space_missions_dropped[usa_space_missions_dropped['MissionStatus'] == 'Success']\\\n",
    ".groupby('Company').MissionStatus.count()\n",
    "companies_success_missions"
   ]
  },
  {
   "cell_type": "code",
   "execution_count": 56,
   "id": "f7148950",
   "metadata": {},
   "outputs": [
    {
     "data": {
      "text/plain": [
       "Company\n",
       "Blue Origin         100.0\n",
       "Douglas             100.0\n",
       "ILS                 100.0\n",
       "ULA                  99.0\n",
       "Boeing               96.0\n",
       "SpaceX               95.0\n",
       "Lockheed             94.0\n",
       "NASA                 92.0\n",
       "Northrop             90.0\n",
       "Martin Marietta      88.0\n",
       "General Dynamics     81.0\n",
       "US Air Force         80.0\n",
       "Virgin Orbit         80.0\n",
       "Virgin Galactic      67.0\n",
       "AMBA                 43.0\n",
       "Astra                29.0\n",
       "US Navy              12.0\n",
       "EER                   NaN\n",
       "Firefly               NaN\n",
       "dtype: float64"
      ]
     },
     "execution_count": 56,
     "metadata": {},
     "output_type": "execute_result"
    }
   ],
   "source": [
    "success_percentage_per_company = round((companies_success_missions / missions_per_company) * 100)\n",
    "success_percentage_per_company.sort_values(ascending = False)"
   ]
  },
  {
   "cell_type": "markdown",
   "id": "ff7eae1e",
   "metadata": {},
   "source": [
    "**Companies with the Most Failed Missions**"
   ]
  },
  {
   "cell_type": "code",
   "execution_count": 22,
   "id": "a17bd30e",
   "metadata": {},
   "outputs": [
    {
     "data": {
      "text/plain": [
       "Company\n",
       "AMBA                 3\n",
       "Astra                5\n",
       "Boeing               3\n",
       "EER                  1\n",
       "Firefly              1\n",
       "General Dynamics    37\n",
       "Lockheed             5\n",
       "Martin Marietta     11\n",
       "NASA                11\n",
       "Northrop             7\n",
       "SpaceX               5\n",
       "US Air Force        30\n",
       "US Navy             14\n",
       "Virgin Orbit         1\n",
       "Name: MissionStatus, dtype: int64"
      ]
     },
     "execution_count": 22,
     "metadata": {},
     "output_type": "execute_result"
    }
   ],
   "source": [
    "companies_failed_missions = usa_space_missions_dropped[usa_space_missions_dropped['MissionStatus'] == 'Failure']\\\n",
    ".groupby('Company').MissionStatus.count()\n",
    "companies_failed_missions"
   ]
  },
  {
   "cell_type": "code",
   "execution_count": 58,
   "id": "a4e466da",
   "metadata": {},
   "outputs": [
    {
     "data": {
      "text/plain": [
       "Company\n",
       "EER                 100.0\n",
       "Firefly             100.0\n",
       "US Navy              82.0\n",
       "Astra                71.0\n",
       "AMBA                 43.0\n",
       "Virgin Orbit         20.0\n",
       "US Air Force         19.0\n",
       "General Dynamics     15.0\n",
       "Martin Marietta      10.0\n",
       "Northrop              8.0\n",
       "Lockheed              6.0\n",
       "NASA                  5.0\n",
       "SpaceX                3.0\n",
       "Boeing                2.0\n",
       "Blue Origin           NaN\n",
       "Douglas               NaN\n",
       "ILS                   NaN\n",
       "ULA                   NaN\n",
       "Virgin Galactic       NaN\n",
       "dtype: float64"
      ]
     },
     "execution_count": 58,
     "metadata": {},
     "output_type": "execute_result"
    }
   ],
   "source": [
    "failure_percentage_per_company = round((companies_failed_missions / missions_per_company) * 100)\n",
    "failure_percentage_per_company.sort_values(ascending = False)"
   ]
  },
  {
   "cell_type": "markdown",
   "id": "b803c82d",
   "metadata": {},
   "source": [
    "**Rockets with the Most Successful Missions**"
   ]
  },
  {
   "cell_type": "code",
   "execution_count": 23,
   "id": "9859da56",
   "metadata": {},
   "outputs": [
    {
     "data": {
      "text/plain": [
       "Rocket\n",
       "Antares 110               2\n",
       "Antares 120               2\n",
       "Antares 230               5\n",
       "Antares 230+              6\n",
       "Ares 1-X                  1\n",
       "                         ..\n",
       "Titan IV(404)B            3\n",
       "Titan IV(405)A            2\n",
       "Titan IV(405)B            1\n",
       "Titan-III(33)B Agena-D    2\n",
       "Vanguard                  2\n",
       "Name: MissionStatus, Length: 151, dtype: int64"
      ]
     },
     "execution_count": 23,
     "metadata": {},
     "output_type": "execute_result"
    }
   ],
   "source": [
    "rockets_success = usa_space_missions_dropped[usa_space_missions_dropped['MissionStatus'] == 'Success']\\\n",
    ".groupby('Rocket').MissionStatus.count()\n",
    "rockets_success"
   ]
  },
  {
   "cell_type": "code",
   "execution_count": 24,
   "id": "651e91da",
   "metadata": {},
   "outputs": [
    {
     "data": {
      "text/plain": [
       "Rocket\n",
       "Falcon 9 Block 5           111\n",
       "Delta II 7925               60\n",
       "Atlas-SLV3 Agena-D          41\n",
       "Space Shuttle Discovery     39\n",
       "Atlas V 401                 38\n",
       "                          ... \n",
       "Thor DM-18 Able-III          1\n",
       "Thor DM-18 Able-II           1\n",
       "Delta II 7920-10L            1\n",
       "Delta II 7920-8              1\n",
       "SM-65B Atlas                 1\n",
       "Name: MissionStatus, Length: 151, dtype: int64"
      ]
     },
     "execution_count": 24,
     "metadata": {},
     "output_type": "execute_result"
    }
   ],
   "source": [
    "rockets_success.sort_values(ascending = False)"
   ]
  },
  {
   "cell_type": "markdown",
   "id": "4a683f21",
   "metadata": {},
   "source": [
    "**Rockets with the Most Failed Missions**"
   ]
  },
  {
   "cell_type": "code",
   "execution_count": 25,
   "id": "40a18c7b",
   "metadata": {},
   "outputs": [
    {
     "data": {
      "text/plain": [
       "Rocket\n",
       "Antares 130               1\n",
       "Athena I                  1\n",
       "Athena II                 1\n",
       "Atlas I                   3\n",
       "Atlas-D Able              3\n",
       "                         ..\n",
       "Titan IV(401)B            1\n",
       "Titan IV(402)B            1\n",
       "Titan IV(403)A            1\n",
       "Titan-III(33)B Agena-D    1\n",
       "Vanguard                  8\n",
       "Name: MissionStatus, Length: 67, dtype: int64"
      ]
     },
     "execution_count": 25,
     "metadata": {},
     "output_type": "execute_result"
    }
   ],
   "source": [
    "rockets_failed = usa_space_missions_dropped[usa_space_missions_dropped['MissionStatus'] == 'Failure']\\\n",
    ".groupby('Rocket').MissionStatus.count()\n",
    "rockets_failed"
   ]
  },
  {
   "cell_type": "code",
   "execution_count": 26,
   "id": "c7c0f0d6",
   "metadata": {},
   "outputs": [
    {
     "data": {
      "text/plain": [
       "Rocket\n",
       "Vanguard              8\n",
       "Thor DM-21 Agena-B    8\n",
       "Atlas-LV3 Agena-B     7\n",
       "Thor-DM18 Agena-A     7\n",
       "NOTS-EV-1 Pilot II    6\n",
       "                     ..\n",
       "Firefly Alpha         1\n",
       "LauncherOne           1\n",
       "Athena I              1\n",
       "Saturn IB             1\n",
       "Mercury-Redstone      1\n",
       "Name: MissionStatus, Length: 67, dtype: int64"
      ]
     },
     "execution_count": 26,
     "metadata": {},
     "output_type": "execute_result"
    }
   ],
   "source": [
    "rockets_failed.sort_values(ascending = False)"
   ]
  },
  {
   "cell_type": "markdown",
   "id": "f6402e60",
   "metadata": {},
   "source": [
    "**Retired Rockets**"
   ]
  },
  {
   "cell_type": "code",
   "execution_count": 27,
   "id": "cf239118",
   "metadata": {},
   "outputs": [
    {
     "data": {
      "text/html": [
       "<div>\n",
       "<style scoped>\n",
       "    .dataframe tbody tr th:only-of-type {\n",
       "        vertical-align: middle;\n",
       "    }\n",
       "\n",
       "    .dataframe tbody tr th {\n",
       "        vertical-align: top;\n",
       "    }\n",
       "\n",
       "    .dataframe thead th {\n",
       "        text-align: right;\n",
       "    }\n",
       "</style>\n",
       "<table border=\"1\" class=\"dataframe\">\n",
       "  <thead>\n",
       "    <tr style=\"text-align: right;\">\n",
       "      <th></th>\n",
       "      <th>Company</th>\n",
       "      <th>Location</th>\n",
       "      <th>Date</th>\n",
       "      <th>Rocket</th>\n",
       "      <th>Mission</th>\n",
       "      <th>RocketStatus</th>\n",
       "      <th>MissionStatus</th>\n",
       "      <th>Year</th>\n",
       "    </tr>\n",
       "  </thead>\n",
       "  <tbody>\n",
       "    <tr>\n",
       "      <th>2</th>\n",
       "      <td>US Navy</td>\n",
       "      <td>LC-18A, Cape Canaveral AFS, Florida, USA</td>\n",
       "      <td>1957-12-06</td>\n",
       "      <td>Vanguard</td>\n",
       "      <td>Vanguard TV3</td>\n",
       "      <td>Retired</td>\n",
       "      <td>Failure</td>\n",
       "      <td>1957</td>\n",
       "    </tr>\n",
       "    <tr>\n",
       "      <th>3</th>\n",
       "      <td>AMBA</td>\n",
       "      <td>LC-26A, Cape Canaveral AFS, Florida, USA</td>\n",
       "      <td>1958-02-01</td>\n",
       "      <td>Juno I</td>\n",
       "      <td>Explorer 1</td>\n",
       "      <td>Retired</td>\n",
       "      <td>Success</td>\n",
       "      <td>1958</td>\n",
       "    </tr>\n",
       "    <tr>\n",
       "      <th>4</th>\n",
       "      <td>US Navy</td>\n",
       "      <td>LC-18A, Cape Canaveral AFS, Florida, USA</td>\n",
       "      <td>1958-02-05</td>\n",
       "      <td>Vanguard</td>\n",
       "      <td>Vanguard TV3BU</td>\n",
       "      <td>Retired</td>\n",
       "      <td>Failure</td>\n",
       "      <td>1958</td>\n",
       "    </tr>\n",
       "    <tr>\n",
       "      <th>5</th>\n",
       "      <td>AMBA</td>\n",
       "      <td>LC-26A, Cape Canaveral AFS, Florida, USA</td>\n",
       "      <td>1958-03-05</td>\n",
       "      <td>Juno I</td>\n",
       "      <td>Explorer 2</td>\n",
       "      <td>Retired</td>\n",
       "      <td>Failure</td>\n",
       "      <td>1958</td>\n",
       "    </tr>\n",
       "    <tr>\n",
       "      <th>6</th>\n",
       "      <td>US Navy</td>\n",
       "      <td>LC-18A, Cape Canaveral AFS, Florida, USA</td>\n",
       "      <td>1958-03-17</td>\n",
       "      <td>Vanguard</td>\n",
       "      <td>Vanguard 1</td>\n",
       "      <td>Retired</td>\n",
       "      <td>Success</td>\n",
       "      <td>1958</td>\n",
       "    </tr>\n",
       "    <tr>\n",
       "      <th>...</th>\n",
       "      <td>...</td>\n",
       "      <td>...</td>\n",
       "      <td>...</td>\n",
       "      <td>...</td>\n",
       "      <td>...</td>\n",
       "      <td>...</td>\n",
       "      <td>...</td>\n",
       "      <td>...</td>\n",
       "    </tr>\n",
       "    <tr>\n",
       "      <th>4178</th>\n",
       "      <td>Northrop</td>\n",
       "      <td>LP-0A, Wallops Flight Facility, Virginia, USA</td>\n",
       "      <td>2019-04-17</td>\n",
       "      <td>Antares 230</td>\n",
       "      <td>CRS NG-11</td>\n",
       "      <td>Retired</td>\n",
       "      <td>Success</td>\n",
       "      <td>2019</td>\n",
       "    </tr>\n",
       "    <tr>\n",
       "      <th>4216</th>\n",
       "      <td>ULA</td>\n",
       "      <td>SLC-37B, Cape Canaveral AFS, Florida, USA</td>\n",
       "      <td>2019-08-22</td>\n",
       "      <td>Delta IV Medium+ (4,2)</td>\n",
       "      <td>GPS III SV02</td>\n",
       "      <td>Retired</td>\n",
       "      <td>Success</td>\n",
       "      <td>2019</td>\n",
       "    </tr>\n",
       "    <tr>\n",
       "      <th>4272</th>\n",
       "      <td>ULA</td>\n",
       "      <td>SLC-41, Cape Canaveral AFS, Florida, USA</td>\n",
       "      <td>2020-02-10</td>\n",
       "      <td>Atlas V 411</td>\n",
       "      <td>Solar Orbiter</td>\n",
       "      <td>Retired</td>\n",
       "      <td>Success</td>\n",
       "      <td>2020</td>\n",
       "    </tr>\n",
       "    <tr>\n",
       "      <th>4293</th>\n",
       "      <td>ULA</td>\n",
       "      <td>SLC-41, Cape Canaveral AFS, Florida, USA</td>\n",
       "      <td>2020-05-17</td>\n",
       "      <td>Atlas V 501</td>\n",
       "      <td>OTV-6 (USSF-7)</td>\n",
       "      <td>Retired</td>\n",
       "      <td>Success</td>\n",
       "      <td>2020</td>\n",
       "    </tr>\n",
       "    <tr>\n",
       "      <th>4542</th>\n",
       "      <td>ULA</td>\n",
       "      <td>SLC-41, Cape Canaveral SFS, Florida, USA</td>\n",
       "      <td>2022-01-21</td>\n",
       "      <td>Atlas V 511</td>\n",
       "      <td>GSSAP 5 &amp; 6 (USSF-8)</td>\n",
       "      <td>Retired</td>\n",
       "      <td>Success</td>\n",
       "      <td>2022</td>\n",
       "    </tr>\n",
       "  </tbody>\n",
       "</table>\n",
       "<p>1155 rows × 8 columns</p>\n",
       "</div>"
      ],
      "text/plain": [
       "       Company                                       Location        Date  \\\n",
       "2      US Navy       LC-18A, Cape Canaveral AFS, Florida, USA  1957-12-06   \n",
       "3         AMBA       LC-26A, Cape Canaveral AFS, Florida, USA  1958-02-01   \n",
       "4      US Navy       LC-18A, Cape Canaveral AFS, Florida, USA  1958-02-05   \n",
       "5         AMBA       LC-26A, Cape Canaveral AFS, Florida, USA  1958-03-05   \n",
       "6      US Navy       LC-18A, Cape Canaveral AFS, Florida, USA  1958-03-17   \n",
       "...        ...                                            ...         ...   \n",
       "4178  Northrop  LP-0A, Wallops Flight Facility, Virginia, USA  2019-04-17   \n",
       "4216       ULA      SLC-37B, Cape Canaveral AFS, Florida, USA  2019-08-22   \n",
       "4272       ULA       SLC-41, Cape Canaveral AFS, Florida, USA  2020-02-10   \n",
       "4293       ULA       SLC-41, Cape Canaveral AFS, Florida, USA  2020-05-17   \n",
       "4542       ULA       SLC-41, Cape Canaveral SFS, Florida, USA  2022-01-21   \n",
       "\n",
       "                      Rocket               Mission RocketStatus MissionStatus  \\\n",
       "2                   Vanguard          Vanguard TV3      Retired       Failure   \n",
       "3                     Juno I            Explorer 1      Retired       Success   \n",
       "4                   Vanguard        Vanguard TV3BU      Retired       Failure   \n",
       "5                     Juno I            Explorer 2      Retired       Failure   \n",
       "6                   Vanguard            Vanguard 1      Retired       Success   \n",
       "...                      ...                   ...          ...           ...   \n",
       "4178             Antares 230             CRS NG-11      Retired       Success   \n",
       "4216  Delta IV Medium+ (4,2)          GPS III SV02      Retired       Success   \n",
       "4272             Atlas V 411         Solar Orbiter      Retired       Success   \n",
       "4293             Atlas V 501        OTV-6 (USSF-7)      Retired       Success   \n",
       "4542             Atlas V 511  GSSAP 5 & 6 (USSF-8)      Retired       Success   \n",
       "\n",
       "      Year  \n",
       "2     1957  \n",
       "3     1958  \n",
       "4     1958  \n",
       "5     1958  \n",
       "6     1958  \n",
       "...    ...  \n",
       "4178  2019  \n",
       "4216  2019  \n",
       "4272  2020  \n",
       "4293  2020  \n",
       "4542  2022  \n",
       "\n",
       "[1155 rows x 8 columns]"
      ]
     },
     "execution_count": 27,
     "metadata": {},
     "output_type": "execute_result"
    }
   ],
   "source": [
    "retired_rockets = usa_space_missions_dropped[usa_space_missions_dropped['RocketStatus'] == 'Retired']\n",
    "retired_rockets"
   ]
  },
  {
   "cell_type": "code",
   "execution_count": 28,
   "id": "e0250245",
   "metadata": {},
   "outputs": [
    {
     "data": {
      "text/html": [
       "<div>\n",
       "<style scoped>\n",
       "    .dataframe tbody tr th:only-of-type {\n",
       "        vertical-align: middle;\n",
       "    }\n",
       "\n",
       "    .dataframe tbody tr th {\n",
       "        vertical-align: top;\n",
       "    }\n",
       "\n",
       "    .dataframe thead th {\n",
       "        text-align: right;\n",
       "    }\n",
       "</style>\n",
       "<table border=\"1\" class=\"dataframe\">\n",
       "  <thead>\n",
       "    <tr style=\"text-align: right;\">\n",
       "      <th></th>\n",
       "      <th>Company</th>\n",
       "      <th>Location</th>\n",
       "      <th>Date</th>\n",
       "      <th>Mission</th>\n",
       "      <th>RocketStatus</th>\n",
       "      <th>MissionStatus</th>\n",
       "      <th>Year</th>\n",
       "    </tr>\n",
       "    <tr>\n",
       "      <th>Rocket</th>\n",
       "      <th></th>\n",
       "      <th></th>\n",
       "      <th></th>\n",
       "      <th></th>\n",
       "      <th></th>\n",
       "      <th></th>\n",
       "      <th></th>\n",
       "    </tr>\n",
       "  </thead>\n",
       "  <tbody>\n",
       "    <tr>\n",
       "      <th>Antares 110</th>\n",
       "      <td>Northrop</td>\n",
       "      <td>LP-0A, Wallops Flight Facility, Virginia, USA</td>\n",
       "      <td>2013-04-21</td>\n",
       "      <td>Antares A-ONE</td>\n",
       "      <td>Retired</td>\n",
       "      <td>Success</td>\n",
       "      <td>2013</td>\n",
       "    </tr>\n",
       "    <tr>\n",
       "      <th>Antares 120</th>\n",
       "      <td>Northrop</td>\n",
       "      <td>LP-0A, Wallops Flight Facility, Virginia, USA</td>\n",
       "      <td>2014-01-09</td>\n",
       "      <td>CRS Orb-1</td>\n",
       "      <td>Retired</td>\n",
       "      <td>Success</td>\n",
       "      <td>2014</td>\n",
       "    </tr>\n",
       "    <tr>\n",
       "      <th>Antares 130</th>\n",
       "      <td>Northrop</td>\n",
       "      <td>LP-0A, Wallops Flight Facility, Virginia, USA</td>\n",
       "      <td>2014-10-28</td>\n",
       "      <td>CRS Orb-3</td>\n",
       "      <td>Retired</td>\n",
       "      <td>Failure</td>\n",
       "      <td>2014</td>\n",
       "    </tr>\n",
       "    <tr>\n",
       "      <th>Antares 230</th>\n",
       "      <td>Northrop</td>\n",
       "      <td>LP-0A, Wallops Flight Facility, Virginia, USA</td>\n",
       "      <td>2016-10-17</td>\n",
       "      <td>CRS OA-5</td>\n",
       "      <td>Retired</td>\n",
       "      <td>Success</td>\n",
       "      <td>2016</td>\n",
       "    </tr>\n",
       "    <tr>\n",
       "      <th>Ares 1-X</th>\n",
       "      <td>NASA</td>\n",
       "      <td>LC-39B, Kennedy Space Center, Florida, USA</td>\n",
       "      <td>2009-10-28</td>\n",
       "      <td>Ares 1-X Test Flight</td>\n",
       "      <td>Retired</td>\n",
       "      <td>Success</td>\n",
       "      <td>2009</td>\n",
       "    </tr>\n",
       "    <tr>\n",
       "      <th>...</th>\n",
       "      <td>...</td>\n",
       "      <td>...</td>\n",
       "      <td>...</td>\n",
       "      <td>...</td>\n",
       "      <td>...</td>\n",
       "      <td>...</td>\n",
       "      <td>...</td>\n",
       "    </tr>\n",
       "    <tr>\n",
       "      <th>Titan IV(404)B</th>\n",
       "      <td>Lockheed</td>\n",
       "      <td>SLC-4E, Vandenberg AFB, California, USA</td>\n",
       "      <td>1999-05-22</td>\n",
       "      <td>NROL-9 (Misty)</td>\n",
       "      <td>Retired</td>\n",
       "      <td>Success</td>\n",
       "      <td>1999</td>\n",
       "    </tr>\n",
       "    <tr>\n",
       "      <th>Titan IV(405)A</th>\n",
       "      <td>Martin Marietta</td>\n",
       "      <td>SLC-41, Cape Canaveral AFS, Florida, USA</td>\n",
       "      <td>1990-06-08</td>\n",
       "      <td>SLDCOM &amp; NOSS 3x</td>\n",
       "      <td>Retired</td>\n",
       "      <td>Success</td>\n",
       "      <td>1990</td>\n",
       "    </tr>\n",
       "    <tr>\n",
       "      <th>Titan IV(405)B</th>\n",
       "      <td>Lockheed</td>\n",
       "      <td>SLC-40, Cape Canaveral AFS, Florida, USA</td>\n",
       "      <td>2005-04-30</td>\n",
       "      <td>NROL-16 (Onyx)</td>\n",
       "      <td>Retired</td>\n",
       "      <td>Success</td>\n",
       "      <td>2005</td>\n",
       "    </tr>\n",
       "    <tr>\n",
       "      <th>Titan-III(33)B Agena-D</th>\n",
       "      <td>Martin Marietta</td>\n",
       "      <td>SLC-4W, Vandenberg AFB, California, USA</td>\n",
       "      <td>1971-03-21</td>\n",
       "      <td>Jumpseat 1</td>\n",
       "      <td>Retired</td>\n",
       "      <td>Success</td>\n",
       "      <td>1971</td>\n",
       "    </tr>\n",
       "    <tr>\n",
       "      <th>Vanguard</th>\n",
       "      <td>US Navy</td>\n",
       "      <td>LC-18A, Cape Canaveral AFS, Florida, USA</td>\n",
       "      <td>1957-12-06</td>\n",
       "      <td>Vanguard TV3</td>\n",
       "      <td>Retired</td>\n",
       "      <td>Failure</td>\n",
       "      <td>1957</td>\n",
       "    </tr>\n",
       "  </tbody>\n",
       "</table>\n",
       "<p>144 rows × 7 columns</p>\n",
       "</div>"
      ],
      "text/plain": [
       "                                Company  \\\n",
       "Rocket                                    \n",
       "Antares 110                    Northrop   \n",
       "Antares 120                    Northrop   \n",
       "Antares 130                    Northrop   \n",
       "Antares 230                    Northrop   \n",
       "Ares 1-X                           NASA   \n",
       "...                                 ...   \n",
       "Titan IV(404)B                 Lockheed   \n",
       "Titan IV(405)A          Martin Marietta   \n",
       "Titan IV(405)B                 Lockheed   \n",
       "Titan-III(33)B Agena-D  Martin Marietta   \n",
       "Vanguard                        US Navy   \n",
       "\n",
       "                                                             Location  \\\n",
       "Rocket                                                                  \n",
       "Antares 110             LP-0A, Wallops Flight Facility, Virginia, USA   \n",
       "Antares 120             LP-0A, Wallops Flight Facility, Virginia, USA   \n",
       "Antares 130             LP-0A, Wallops Flight Facility, Virginia, USA   \n",
       "Antares 230             LP-0A, Wallops Flight Facility, Virginia, USA   \n",
       "Ares 1-X                   LC-39B, Kennedy Space Center, Florida, USA   \n",
       "...                                                               ...   \n",
       "Titan IV(404)B                SLC-4E, Vandenberg AFB, California, USA   \n",
       "Titan IV(405)A               SLC-41, Cape Canaveral AFS, Florida, USA   \n",
       "Titan IV(405)B               SLC-40, Cape Canaveral AFS, Florida, USA   \n",
       "Titan-III(33)B Agena-D        SLC-4W, Vandenberg AFB, California, USA   \n",
       "Vanguard                     LC-18A, Cape Canaveral AFS, Florida, USA   \n",
       "\n",
       "                              Date               Mission RocketStatus  \\\n",
       "Rocket                                                                  \n",
       "Antares 110             2013-04-21         Antares A-ONE      Retired   \n",
       "Antares 120             2014-01-09             CRS Orb-1      Retired   \n",
       "Antares 130             2014-10-28             CRS Orb-3      Retired   \n",
       "Antares 230             2016-10-17              CRS OA-5      Retired   \n",
       "Ares 1-X                2009-10-28  Ares 1-X Test Flight      Retired   \n",
       "...                            ...                   ...          ...   \n",
       "Titan IV(404)B          1999-05-22        NROL-9 (Misty)      Retired   \n",
       "Titan IV(405)A          1990-06-08      SLDCOM & NOSS 3x      Retired   \n",
       "Titan IV(405)B          2005-04-30        NROL-16 (Onyx)      Retired   \n",
       "Titan-III(33)B Agena-D  1971-03-21            Jumpseat 1      Retired   \n",
       "Vanguard                1957-12-06          Vanguard TV3      Retired   \n",
       "\n",
       "                       MissionStatus  Year  \n",
       "Rocket                                      \n",
       "Antares 110                  Success  2013  \n",
       "Antares 120                  Success  2014  \n",
       "Antares 130                  Failure  2014  \n",
       "Antares 230                  Success  2016  \n",
       "Ares 1-X                     Success  2009  \n",
       "...                              ...   ...  \n",
       "Titan IV(404)B               Success  1999  \n",
       "Titan IV(405)A               Success  1990  \n",
       "Titan IV(405)B               Success  2005  \n",
       "Titan-III(33)B Agena-D       Success  1971  \n",
       "Vanguard                     Failure  1957  \n",
       "\n",
       "[144 rows x 7 columns]"
      ]
     },
     "execution_count": 28,
     "metadata": {},
     "output_type": "execute_result"
    }
   ],
   "source": [
    "retired_rockets.groupby('Rocket').first()"
   ]
  },
  {
   "cell_type": "markdown",
   "id": "d38c0ff9",
   "metadata": {},
   "source": [
    "**Active Rockets**"
   ]
  },
  {
   "cell_type": "code",
   "execution_count": 29,
   "id": "8ce1050e",
   "metadata": {},
   "outputs": [
    {
     "data": {
      "text/html": [
       "<div>\n",
       "<style scoped>\n",
       "    .dataframe tbody tr th:only-of-type {\n",
       "        vertical-align: middle;\n",
       "    }\n",
       "\n",
       "    .dataframe tbody tr th {\n",
       "        vertical-align: top;\n",
       "    }\n",
       "\n",
       "    .dataframe thead th {\n",
       "        text-align: right;\n",
       "    }\n",
       "</style>\n",
       "<table border=\"1\" class=\"dataframe\">\n",
       "  <thead>\n",
       "    <tr style=\"text-align: right;\">\n",
       "      <th></th>\n",
       "      <th>Company</th>\n",
       "      <th>Location</th>\n",
       "      <th>Date</th>\n",
       "      <th>Rocket</th>\n",
       "      <th>Mission</th>\n",
       "      <th>RocketStatus</th>\n",
       "      <th>MissionStatus</th>\n",
       "      <th>Year</th>\n",
       "    </tr>\n",
       "  </thead>\n",
       "  <tbody>\n",
       "    <tr>\n",
       "      <th>2741</th>\n",
       "      <td>Northrop</td>\n",
       "      <td>SLC-576E, Vandenberg AFB, California, USA</td>\n",
       "      <td>1994-03-13</td>\n",
       "      <td>Minotaur C (Taurus)</td>\n",
       "      <td>STEP Mission 0 &amp; DARPASAT</td>\n",
       "      <td>Active</td>\n",
       "      <td>Success</td>\n",
       "      <td>1994</td>\n",
       "    </tr>\n",
       "    <tr>\n",
       "      <th>2753</th>\n",
       "      <td>Northrop</td>\n",
       "      <td>Stargazer, Vandenberg AFB, California, USA</td>\n",
       "      <td>1994-06-27</td>\n",
       "      <td>Pegasus XL</td>\n",
       "      <td>STEP-1</td>\n",
       "      <td>Active</td>\n",
       "      <td>Failure</td>\n",
       "      <td>1994</td>\n",
       "    </tr>\n",
       "    <tr>\n",
       "      <th>2819</th>\n",
       "      <td>Northrop</td>\n",
       "      <td>Stargazer, Vandenberg AFB, California, USA</td>\n",
       "      <td>1995-06-22</td>\n",
       "      <td>Pegasus XL</td>\n",
       "      <td>STEP-3</td>\n",
       "      <td>Active</td>\n",
       "      <td>Failure</td>\n",
       "      <td>1995</td>\n",
       "    </tr>\n",
       "    <tr>\n",
       "      <th>2866</th>\n",
       "      <td>Northrop</td>\n",
       "      <td>Stargazer, Vandenberg AFB, California, USA</td>\n",
       "      <td>1996-03-09</td>\n",
       "      <td>Pegasus XL</td>\n",
       "      <td>REX II</td>\n",
       "      <td>Active</td>\n",
       "      <td>Success</td>\n",
       "      <td>1996</td>\n",
       "    </tr>\n",
       "    <tr>\n",
       "      <th>2885</th>\n",
       "      <td>Northrop</td>\n",
       "      <td>Stargazer, Vandenberg AFB, California, USA</td>\n",
       "      <td>1996-07-02</td>\n",
       "      <td>Pegasus XL</td>\n",
       "      <td>TOMS</td>\n",
       "      <td>Active</td>\n",
       "      <td>Success</td>\n",
       "      <td>1996</td>\n",
       "    </tr>\n",
       "    <tr>\n",
       "      <th>...</th>\n",
       "      <td>...</td>\n",
       "      <td>...</td>\n",
       "      <td>...</td>\n",
       "      <td>...</td>\n",
       "      <td>...</td>\n",
       "      <td>...</td>\n",
       "      <td>...</td>\n",
       "      <td>...</td>\n",
       "    </tr>\n",
       "    <tr>\n",
       "      <th>4619</th>\n",
       "      <td>Astra</td>\n",
       "      <td>SLC-46, Cape Canaveral SFS, Florida, USA</td>\n",
       "      <td>2022-07-12</td>\n",
       "      <td>Rocket 3</td>\n",
       "      <td>TROPICS Flight 1</td>\n",
       "      <td>Active</td>\n",
       "      <td>Failure</td>\n",
       "      <td>2022</td>\n",
       "    </tr>\n",
       "    <tr>\n",
       "      <th>4622</th>\n",
       "      <td>SpaceX</td>\n",
       "      <td>LC-39A, Kennedy Space Center, Florida, USA</td>\n",
       "      <td>2022-07-15</td>\n",
       "      <td>Falcon 9 Block 5</td>\n",
       "      <td>CRS SpX-25</td>\n",
       "      <td>Active</td>\n",
       "      <td>Success</td>\n",
       "      <td>2022</td>\n",
       "    </tr>\n",
       "    <tr>\n",
       "      <th>4624</th>\n",
       "      <td>SpaceX</td>\n",
       "      <td>SLC-40, Cape Canaveral SFS, Florida, USA</td>\n",
       "      <td>2022-07-17</td>\n",
       "      <td>Falcon 9 Block 5</td>\n",
       "      <td>Starlink Group 4-22</td>\n",
       "      <td>Active</td>\n",
       "      <td>Success</td>\n",
       "      <td>2022</td>\n",
       "    </tr>\n",
       "    <tr>\n",
       "      <th>4625</th>\n",
       "      <td>SpaceX</td>\n",
       "      <td>SLC-4E, Vandenberg SFB, California, USA</td>\n",
       "      <td>2022-07-22</td>\n",
       "      <td>Falcon 9 Block 5</td>\n",
       "      <td>Starlink Group 3-2</td>\n",
       "      <td>Active</td>\n",
       "      <td>Success</td>\n",
       "      <td>2022</td>\n",
       "    </tr>\n",
       "    <tr>\n",
       "      <th>4627</th>\n",
       "      <td>SpaceX</td>\n",
       "      <td>LC-39A, Kennedy Space Center, Florida, USA</td>\n",
       "      <td>2022-07-24</td>\n",
       "      <td>Falcon 9 Block 5</td>\n",
       "      <td>Starlink Group 4-25</td>\n",
       "      <td>Active</td>\n",
       "      <td>Success</td>\n",
       "      <td>2022</td>\n",
       "    </tr>\n",
       "  </tbody>\n",
       "</table>\n",
       "<p>312 rows × 8 columns</p>\n",
       "</div>"
      ],
      "text/plain": [
       "       Company                                    Location        Date  \\\n",
       "2741  Northrop   SLC-576E, Vandenberg AFB, California, USA  1994-03-13   \n",
       "2753  Northrop  Stargazer, Vandenberg AFB, California, USA  1994-06-27   \n",
       "2819  Northrop  Stargazer, Vandenberg AFB, California, USA  1995-06-22   \n",
       "2866  Northrop  Stargazer, Vandenberg AFB, California, USA  1996-03-09   \n",
       "2885  Northrop  Stargazer, Vandenberg AFB, California, USA  1996-07-02   \n",
       "...        ...                                         ...         ...   \n",
       "4619     Astra    SLC-46, Cape Canaveral SFS, Florida, USA  2022-07-12   \n",
       "4622    SpaceX  LC-39A, Kennedy Space Center, Florida, USA  2022-07-15   \n",
       "4624    SpaceX    SLC-40, Cape Canaveral SFS, Florida, USA  2022-07-17   \n",
       "4625    SpaceX     SLC-4E, Vandenberg SFB, California, USA  2022-07-22   \n",
       "4627    SpaceX  LC-39A, Kennedy Space Center, Florida, USA  2022-07-24   \n",
       "\n",
       "                   Rocket                    Mission RocketStatus  \\\n",
       "2741  Minotaur C (Taurus)  STEP Mission 0 & DARPASAT       Active   \n",
       "2753           Pegasus XL                     STEP-1       Active   \n",
       "2819           Pegasus XL                     STEP-3       Active   \n",
       "2866           Pegasus XL                     REX II       Active   \n",
       "2885           Pegasus XL                       TOMS       Active   \n",
       "...                   ...                        ...          ...   \n",
       "4619             Rocket 3           TROPICS Flight 1       Active   \n",
       "4622     Falcon 9 Block 5                 CRS SpX-25       Active   \n",
       "4624     Falcon 9 Block 5        Starlink Group 4-22       Active   \n",
       "4625     Falcon 9 Block 5         Starlink Group 3-2       Active   \n",
       "4627     Falcon 9 Block 5        Starlink Group 4-25       Active   \n",
       "\n",
       "     MissionStatus  Year  \n",
       "2741       Success  1994  \n",
       "2753       Failure  1994  \n",
       "2819       Failure  1995  \n",
       "2866       Success  1996  \n",
       "2885       Success  1996  \n",
       "...            ...   ...  \n",
       "4619       Failure  2022  \n",
       "4622       Success  2022  \n",
       "4624       Success  2022  \n",
       "4625       Success  2022  \n",
       "4627       Success  2022  \n",
       "\n",
       "[312 rows x 8 columns]"
      ]
     },
     "execution_count": 29,
     "metadata": {},
     "output_type": "execute_result"
    }
   ],
   "source": [
    "active_rockets = usa_space_missions_dropped[usa_space_missions_dropped['RocketStatus'] == 'Active']\n",
    "active_rockets"
   ]
  },
  {
   "cell_type": "code",
   "execution_count": 30,
   "id": "4e695d1a",
   "metadata": {},
   "outputs": [
    {
     "data": {
      "text/html": [
       "<div>\n",
       "<style scoped>\n",
       "    .dataframe tbody tr th:only-of-type {\n",
       "        vertical-align: middle;\n",
       "    }\n",
       "\n",
       "    .dataframe tbody tr th {\n",
       "        vertical-align: top;\n",
       "    }\n",
       "\n",
       "    .dataframe thead th {\n",
       "        text-align: right;\n",
       "    }\n",
       "</style>\n",
       "<table border=\"1\" class=\"dataframe\">\n",
       "  <thead>\n",
       "    <tr style=\"text-align: right;\">\n",
       "      <th></th>\n",
       "      <th>Company</th>\n",
       "      <th>Location</th>\n",
       "      <th>Date</th>\n",
       "      <th>Mission</th>\n",
       "      <th>RocketStatus</th>\n",
       "      <th>MissionStatus</th>\n",
       "      <th>Year</th>\n",
       "    </tr>\n",
       "    <tr>\n",
       "      <th>Rocket</th>\n",
       "      <th></th>\n",
       "      <th></th>\n",
       "      <th></th>\n",
       "      <th></th>\n",
       "      <th></th>\n",
       "      <th></th>\n",
       "      <th></th>\n",
       "    </tr>\n",
       "  </thead>\n",
       "  <tbody>\n",
       "    <tr>\n",
       "      <th>Antares 230+</th>\n",
       "      <td>Northrop</td>\n",
       "      <td>LP-0A, Wallops Flight Facility, Virginia, USA</td>\n",
       "      <td>2019-11-02</td>\n",
       "      <td>CRS NG-12</td>\n",
       "      <td>Active</td>\n",
       "      <td>Success</td>\n",
       "      <td>2019</td>\n",
       "    </tr>\n",
       "    <tr>\n",
       "      <th>Atlas V 401</th>\n",
       "      <td>ILS</td>\n",
       "      <td>SLC-41, Cape Canaveral AFS, Florida, USA</td>\n",
       "      <td>2002-08-21</td>\n",
       "      <td>Hot Bird 6</td>\n",
       "      <td>Active</td>\n",
       "      <td>Success</td>\n",
       "      <td>2002</td>\n",
       "    </tr>\n",
       "    <tr>\n",
       "      <th>Atlas V 421</th>\n",
       "      <td>ULA</td>\n",
       "      <td>SLC-41, Cape Canaveral AFS, Florida, USA</td>\n",
       "      <td>2007-10-11</td>\n",
       "      <td>WSG-1</td>\n",
       "      <td>Active</td>\n",
       "      <td>Success</td>\n",
       "      <td>2007</td>\n",
       "    </tr>\n",
       "    <tr>\n",
       "      <th>Atlas V 531</th>\n",
       "      <td>ULA</td>\n",
       "      <td>SLC-41, Cape Canaveral AFS, Florida, USA</td>\n",
       "      <td>2010-08-14</td>\n",
       "      <td>AEHF-1</td>\n",
       "      <td>Active</td>\n",
       "      <td>Success</td>\n",
       "      <td>2010</td>\n",
       "    </tr>\n",
       "    <tr>\n",
       "      <th>Atlas V 541</th>\n",
       "      <td>ULA</td>\n",
       "      <td>SLC-41, Cape Canaveral AFS, Florida, USA</td>\n",
       "      <td>2011-11-26</td>\n",
       "      <td>Mars Science Laboratory</td>\n",
       "      <td>Active</td>\n",
       "      <td>Success</td>\n",
       "      <td>2011</td>\n",
       "    </tr>\n",
       "    <tr>\n",
       "      <th>Atlas V 551</th>\n",
       "      <td>ILS</td>\n",
       "      <td>SLC-41, Cape Canaveral AFS, Florida, USA</td>\n",
       "      <td>2006-01-19</td>\n",
       "      <td>New Horizons</td>\n",
       "      <td>Active</td>\n",
       "      <td>Success</td>\n",
       "      <td>2006</td>\n",
       "    </tr>\n",
       "    <tr>\n",
       "      <th>Atlas V N22</th>\n",
       "      <td>ULA</td>\n",
       "      <td>SLC-41, Cape Canaveral AFS, Florida, USA</td>\n",
       "      <td>2019-12-20</td>\n",
       "      <td>Starliner OFT</td>\n",
       "      <td>Active</td>\n",
       "      <td>Success</td>\n",
       "      <td>2019</td>\n",
       "    </tr>\n",
       "    <tr>\n",
       "      <th>Delta IV Heavy</th>\n",
       "      <td>Boeing</td>\n",
       "      <td>SLC-37B, Cape Canaveral AFS, Florida, USA</td>\n",
       "      <td>2004-12-21</td>\n",
       "      <td>DemoSat and 3CS-1 &amp; 2</td>\n",
       "      <td>Active</td>\n",
       "      <td>Partial Failure</td>\n",
       "      <td>2004</td>\n",
       "    </tr>\n",
       "    <tr>\n",
       "      <th>Falcon 9 Block 5</th>\n",
       "      <td>SpaceX</td>\n",
       "      <td>LC-39A, Kennedy Space Center, Florida, USA</td>\n",
       "      <td>2018-05-11</td>\n",
       "      <td>Bangabandhu-1</td>\n",
       "      <td>Active</td>\n",
       "      <td>Success</td>\n",
       "      <td>2018</td>\n",
       "    </tr>\n",
       "    <tr>\n",
       "      <th>Falcon Heavy</th>\n",
       "      <td>SpaceX</td>\n",
       "      <td>LC-39A, Kennedy Space Center, Florida, USA</td>\n",
       "      <td>2018-02-06</td>\n",
       "      <td>Test Flight</td>\n",
       "      <td>Active</td>\n",
       "      <td>Success</td>\n",
       "      <td>2018</td>\n",
       "    </tr>\n",
       "    <tr>\n",
       "      <th>Firefly Alpha</th>\n",
       "      <td>Firefly</td>\n",
       "      <td>SLC-2W, Vandenberg SFB, California, USA</td>\n",
       "      <td>2021-09-03</td>\n",
       "      <td>DREAM (Demo Flight)</td>\n",
       "      <td>Active</td>\n",
       "      <td>Failure</td>\n",
       "      <td>2021</td>\n",
       "    </tr>\n",
       "    <tr>\n",
       "      <th>LauncherOne</th>\n",
       "      <td>Virgin Orbit</td>\n",
       "      <td>Cosmic Girl, Mojave Air and Space Port, Califo...</td>\n",
       "      <td>2020-05-25</td>\n",
       "      <td>Demo Flight</td>\n",
       "      <td>Active</td>\n",
       "      <td>Failure</td>\n",
       "      <td>2020</td>\n",
       "    </tr>\n",
       "    <tr>\n",
       "      <th>Minotaur C (Taurus)</th>\n",
       "      <td>Northrop</td>\n",
       "      <td>SLC-576E, Vandenberg AFB, California, USA</td>\n",
       "      <td>1994-03-13</td>\n",
       "      <td>STEP Mission 0 &amp; DARPASAT</td>\n",
       "      <td>Active</td>\n",
       "      <td>Success</td>\n",
       "      <td>1994</td>\n",
       "    </tr>\n",
       "    <tr>\n",
       "      <th>Minotaur I</th>\n",
       "      <td>Northrop</td>\n",
       "      <td>SLC-8, Vandenberg AFB, California, USA</td>\n",
       "      <td>2000-01-27</td>\n",
       "      <td>JAWSat</td>\n",
       "      <td>Active</td>\n",
       "      <td>Success</td>\n",
       "      <td>2000</td>\n",
       "    </tr>\n",
       "    <tr>\n",
       "      <th>Minotaur IV</th>\n",
       "      <td>Northrop</td>\n",
       "      <td>SLC-8, Vandenberg AFB, California, USA</td>\n",
       "      <td>2010-09-26</td>\n",
       "      <td>SBSS</td>\n",
       "      <td>Active</td>\n",
       "      <td>Success</td>\n",
       "      <td>2010</td>\n",
       "    </tr>\n",
       "    <tr>\n",
       "      <th>Minotaur V</th>\n",
       "      <td>Northrop</td>\n",
       "      <td>LP-0B, Wallops Flight Facility, Virginia, USA</td>\n",
       "      <td>2013-09-07</td>\n",
       "      <td>LADEE</td>\n",
       "      <td>Active</td>\n",
       "      <td>Success</td>\n",
       "      <td>2013</td>\n",
       "    </tr>\n",
       "    <tr>\n",
       "      <th>New Shepard</th>\n",
       "      <td>Blue Origin</td>\n",
       "      <td>Blue Origin Launch Site, West Texas, Texas, USA</td>\n",
       "      <td>2015-04-29</td>\n",
       "      <td>NS-1</td>\n",
       "      <td>Active</td>\n",
       "      <td>Success</td>\n",
       "      <td>2015</td>\n",
       "    </tr>\n",
       "    <tr>\n",
       "      <th>Pegasus XL</th>\n",
       "      <td>Northrop</td>\n",
       "      <td>Stargazer, Vandenberg AFB, California, USA</td>\n",
       "      <td>1994-06-27</td>\n",
       "      <td>STEP-1</td>\n",
       "      <td>Active</td>\n",
       "      <td>Failure</td>\n",
       "      <td>1994</td>\n",
       "    </tr>\n",
       "    <tr>\n",
       "      <th>Pegasus XL/HAPS</th>\n",
       "      <td>Northrop</td>\n",
       "      <td>Stargazer, Wallops Flight Facility, Virginia, USA</td>\n",
       "      <td>1997-12-23</td>\n",
       "      <td>Orbcomm A1-A8</td>\n",
       "      <td>Active</td>\n",
       "      <td>Success</td>\n",
       "      <td>1997</td>\n",
       "    </tr>\n",
       "    <tr>\n",
       "      <th>Rocket 3</th>\n",
       "      <td>Astra</td>\n",
       "      <td>LP-3B, Pacific Spaceport Complex, Kodiak, Alas...</td>\n",
       "      <td>2020-09-12</td>\n",
       "      <td>Rocket 3.1</td>\n",
       "      <td>Active</td>\n",
       "      <td>Failure</td>\n",
       "      <td>2020</td>\n",
       "    </tr>\n",
       "    <tr>\n",
       "      <th>SpaceShipTwo</th>\n",
       "      <td>Virgin Galactic</td>\n",
       "      <td>VMS Eve, Spaceport America, New Mexico, USA</td>\n",
       "      <td>2020-12-12</td>\n",
       "      <td>VF-02</td>\n",
       "      <td>Active</td>\n",
       "      <td>Partial Failure</td>\n",
       "      <td>2020</td>\n",
       "    </tr>\n",
       "    <tr>\n",
       "      <th>Starship Prototype</th>\n",
       "      <td>SpaceX</td>\n",
       "      <td>Pad A, Boca Chica, Texas, USA</td>\n",
       "      <td>2020-08-04</td>\n",
       "      <td>150 Meter Hop</td>\n",
       "      <td>Active</td>\n",
       "      <td>Success</td>\n",
       "      <td>2020</td>\n",
       "    </tr>\n",
       "  </tbody>\n",
       "</table>\n",
       "</div>"
      ],
      "text/plain": [
       "                             Company  \\\n",
       "Rocket                                 \n",
       "Antares 230+                Northrop   \n",
       "Atlas V 401                      ILS   \n",
       "Atlas V 421                      ULA   \n",
       "Atlas V 531                      ULA   \n",
       "Atlas V 541                      ULA   \n",
       "Atlas V 551                      ILS   \n",
       "Atlas V N22                      ULA   \n",
       "Delta IV Heavy                Boeing   \n",
       "Falcon 9 Block 5              SpaceX   \n",
       "Falcon Heavy                  SpaceX   \n",
       "Firefly Alpha                Firefly   \n",
       "LauncherOne             Virgin Orbit   \n",
       "Minotaur C (Taurus)         Northrop   \n",
       "Minotaur I                  Northrop   \n",
       "Minotaur IV                 Northrop   \n",
       "Minotaur V                  Northrop   \n",
       "New Shepard              Blue Origin   \n",
       "Pegasus XL                  Northrop   \n",
       "Pegasus XL/HAPS             Northrop   \n",
       "Rocket 3                       Astra   \n",
       "SpaceShipTwo         Virgin Galactic   \n",
       "Starship Prototype            SpaceX   \n",
       "\n",
       "                                                              Location  \\\n",
       "Rocket                                                                   \n",
       "Antares 230+             LP-0A, Wallops Flight Facility, Virginia, USA   \n",
       "Atlas V 401                   SLC-41, Cape Canaveral AFS, Florida, USA   \n",
       "Atlas V 421                   SLC-41, Cape Canaveral AFS, Florida, USA   \n",
       "Atlas V 531                   SLC-41, Cape Canaveral AFS, Florida, USA   \n",
       "Atlas V 541                   SLC-41, Cape Canaveral AFS, Florida, USA   \n",
       "Atlas V 551                   SLC-41, Cape Canaveral AFS, Florida, USA   \n",
       "Atlas V N22                   SLC-41, Cape Canaveral AFS, Florida, USA   \n",
       "Delta IV Heavy               SLC-37B, Cape Canaveral AFS, Florida, USA   \n",
       "Falcon 9 Block 5            LC-39A, Kennedy Space Center, Florida, USA   \n",
       "Falcon Heavy                LC-39A, Kennedy Space Center, Florida, USA   \n",
       "Firefly Alpha                  SLC-2W, Vandenberg SFB, California, USA   \n",
       "LauncherOne          Cosmic Girl, Mojave Air and Space Port, Califo...   \n",
       "Minotaur C (Taurus)          SLC-576E, Vandenberg AFB, California, USA   \n",
       "Minotaur I                      SLC-8, Vandenberg AFB, California, USA   \n",
       "Minotaur IV                     SLC-8, Vandenberg AFB, California, USA   \n",
       "Minotaur V               LP-0B, Wallops Flight Facility, Virginia, USA   \n",
       "New Shepard            Blue Origin Launch Site, West Texas, Texas, USA   \n",
       "Pegasus XL                  Stargazer, Vandenberg AFB, California, USA   \n",
       "Pegasus XL/HAPS      Stargazer, Wallops Flight Facility, Virginia, USA   \n",
       "Rocket 3             LP-3B, Pacific Spaceport Complex, Kodiak, Alas...   \n",
       "SpaceShipTwo               VMS Eve, Spaceport America, New Mexico, USA   \n",
       "Starship Prototype                       Pad A, Boca Chica, Texas, USA   \n",
       "\n",
       "                           Date                    Mission RocketStatus  \\\n",
       "Rocket                                                                    \n",
       "Antares 230+         2019-11-02                  CRS NG-12       Active   \n",
       "Atlas V 401          2002-08-21                 Hot Bird 6       Active   \n",
       "Atlas V 421          2007-10-11                      WSG-1       Active   \n",
       "Atlas V 531          2010-08-14                     AEHF-1       Active   \n",
       "Atlas V 541          2011-11-26    Mars Science Laboratory       Active   \n",
       "Atlas V 551          2006-01-19               New Horizons       Active   \n",
       "Atlas V N22          2019-12-20              Starliner OFT       Active   \n",
       "Delta IV Heavy       2004-12-21      DemoSat and 3CS-1 & 2       Active   \n",
       "Falcon 9 Block 5     2018-05-11              Bangabandhu-1       Active   \n",
       "Falcon Heavy         2018-02-06                Test Flight       Active   \n",
       "Firefly Alpha        2021-09-03        DREAM (Demo Flight)       Active   \n",
       "LauncherOne          2020-05-25                Demo Flight       Active   \n",
       "Minotaur C (Taurus)  1994-03-13  STEP Mission 0 & DARPASAT       Active   \n",
       "Minotaur I           2000-01-27                     JAWSat       Active   \n",
       "Minotaur IV          2010-09-26                       SBSS       Active   \n",
       "Minotaur V           2013-09-07                      LADEE       Active   \n",
       "New Shepard          2015-04-29                       NS-1       Active   \n",
       "Pegasus XL           1994-06-27                     STEP-1       Active   \n",
       "Pegasus XL/HAPS      1997-12-23              Orbcomm A1-A8       Active   \n",
       "Rocket 3             2020-09-12                 Rocket 3.1       Active   \n",
       "SpaceShipTwo         2020-12-12                      VF-02       Active   \n",
       "Starship Prototype   2020-08-04              150 Meter Hop       Active   \n",
       "\n",
       "                       MissionStatus  Year  \n",
       "Rocket                                      \n",
       "Antares 230+                 Success  2019  \n",
       "Atlas V 401                  Success  2002  \n",
       "Atlas V 421                  Success  2007  \n",
       "Atlas V 531                  Success  2010  \n",
       "Atlas V 541                  Success  2011  \n",
       "Atlas V 551                  Success  2006  \n",
       "Atlas V N22                  Success  2019  \n",
       "Delta IV Heavy       Partial Failure  2004  \n",
       "Falcon 9 Block 5             Success  2018  \n",
       "Falcon Heavy                 Success  2018  \n",
       "Firefly Alpha                Failure  2021  \n",
       "LauncherOne                  Failure  2020  \n",
       "Minotaur C (Taurus)          Success  1994  \n",
       "Minotaur I                   Success  2000  \n",
       "Minotaur IV                  Success  2010  \n",
       "Minotaur V                   Success  2013  \n",
       "New Shepard                  Success  2015  \n",
       "Pegasus XL                   Failure  1994  \n",
       "Pegasus XL/HAPS              Success  1997  \n",
       "Rocket 3                     Failure  2020  \n",
       "SpaceShipTwo         Partial Failure  2020  \n",
       "Starship Prototype           Success  2020  "
      ]
     },
     "execution_count": 30,
     "metadata": {},
     "output_type": "execute_result"
    }
   ],
   "source": [
    "active_rockets.groupby('Rocket').first()"
   ]
  },
  {
   "cell_type": "markdown",
   "id": "6e82eec8",
   "metadata": {},
   "source": [
    "**Companies with the Most Retired Rockets**"
   ]
  },
  {
   "cell_type": "code",
   "execution_count": 31,
   "id": "ba149a38",
   "metadata": {},
   "outputs": [
    {
     "data": {
      "text/plain": [
       "Company\n",
       "AMBA                  7\n",
       "Boeing              135\n",
       "Douglas               1\n",
       "EER                   1\n",
       "General Dynamics    251\n",
       "ILS                  36\n",
       "Lockheed             79\n",
       "Martin Marietta     114\n",
       "NASA                203\n",
       "Northrop             20\n",
       "SpaceX               62\n",
       "ULA                  68\n",
       "US Air Force        161\n",
       "US Navy              17\n",
       "Name: RocketStatus, dtype: int64"
      ]
     },
     "execution_count": 31,
     "metadata": {},
     "output_type": "execute_result"
    }
   ],
   "source": [
    "retired_rockets_companies = usa_space_missions_dropped[usa_space_missions_dropped['RocketStatus'] == 'Retired']\\\n",
    ".groupby('Company').RocketStatus.count()\n",
    "retired_rockets_companies"
   ]
  },
  {
   "cell_type": "markdown",
   "id": "718fe25f",
   "metadata": {},
   "source": [
    "**Companies with the Most Active Rockets**"
   ]
  },
  {
   "cell_type": "code",
   "execution_count": 32,
   "id": "0a3d3944",
   "metadata": {},
   "outputs": [
    {
     "data": {
      "text/plain": [
       "Company\n",
       "Astra                7\n",
       "Blue Origin         21\n",
       "Boeing               1\n",
       "Firefly              1\n",
       "ILS                  4\n",
       "Northrop            67\n",
       "SpaceX             120\n",
       "ULA                 83\n",
       "Virgin Galactic      3\n",
       "Virgin Orbit         5\n",
       "Name: RocketStatus, dtype: int64"
      ]
     },
     "execution_count": 32,
     "metadata": {},
     "output_type": "execute_result"
    }
   ],
   "source": [
    "active_rockets_companies = usa_space_missions_dropped[usa_space_missions_dropped['RocketStatus'] == 'Active']\\\n",
    ".groupby('Company').RocketStatus.count()\n",
    "active_rockets_companies"
   ]
  },
  {
   "cell_type": "markdown",
   "id": "cb43e4df",
   "metadata": {},
   "source": [
    "**Total Rockets Per Company**"
   ]
  },
  {
   "cell_type": "code",
   "execution_count": 33,
   "id": "14e1da1f",
   "metadata": {},
   "outputs": [
    {
     "data": {
      "text/plain": [
       "Company\n",
       "AMBA                  7\n",
       "Astra                 7\n",
       "Blue Origin          21\n",
       "Boeing              136\n",
       "Douglas               1\n",
       "EER                   1\n",
       "Firefly               1\n",
       "General Dynamics    251\n",
       "ILS                  40\n",
       "Lockheed             79\n",
       "Martin Marietta     114\n",
       "NASA                203\n",
       "Northrop             87\n",
       "SpaceX              182\n",
       "ULA                 151\n",
       "US Air Force        161\n",
       "US Navy              17\n",
       "Virgin Galactic       3\n",
       "Virgin Orbit          5\n",
       "Name: Rocket, dtype: int64"
      ]
     },
     "execution_count": 33,
     "metadata": {},
     "output_type": "execute_result"
    }
   ],
   "source": [
    "total_rockets_per_company = usa_space_missions_dropped.groupby('Company').Rocket.count()\n",
    "total_rockets_per_company "
   ]
  },
  {
   "cell_type": "markdown",
   "id": "d3abb12d",
   "metadata": {},
   "source": [
    "# Visualization"
   ]
  },
  {
   "cell_type": "markdown",
   "id": "915e535a",
   "metadata": {},
   "source": [
    "**Missions Per Year**"
   ]
  },
  {
   "cell_type": "code",
   "execution_count": 34,
   "id": "971638e0",
   "metadata": {},
   "outputs": [
    {
     "data": {
      "text/plain": [
       "<seaborn.axisgrid.FacetGrid at 0x7fe4c5f405e0>"
      ]
     },
     "execution_count": 34,
     "metadata": {},
     "output_type": "execute_result"
    },
    {
     "data": {
      "image/png": "[encoded data removed]",
      "text/plain": [
       "<Figure size 360x360 with 1 Axes>"
      ]
     },
     "metadata": {},
     "output_type": "display_data"
    }
   ],
   "source": [
    "sb.set_style('dark')\n",
    "sb.displot(usa_space_missions_dropped, x = 'Year', \n",
    "           bins = 20, \n",
    "           color = '#9A0680').set(title = 'Total Missions Per Year')\n"
   ]
  },
  {
   "cell_type": "markdown",
   "id": "876a905b",
   "metadata": {},
   "source": [
    "**Missions Per Company**"
   ]
  },
  {
   "cell_type": "code",
   "execution_count": 35,
   "id": "cf55a178",
   "metadata": {},
   "outputs": [
    {
     "data": {
      "text/plain": [
       "<seaborn.axisgrid.FacetGrid at 0x7fe4c99d4b20>"
      ]
     },
     "execution_count": 35,
     "metadata": {},
     "output_type": "execute_result"
    },
    {
     "data": {
      "image/png": "[encoded data removed]",
      "text/plain": [
       "<Figure size 478.5x360 with 1 Axes>"
      ]
     },
     "metadata": {},
     "output_type": "display_data"
    }
   ],
   "source": [
    "sb.displot(usa_space_missions_dropped, x = 'Company', hue = 'Company')\\\n",
    ".set_xticklabels(rotation = 45, horizontalalignment = 'right')\\\n",
    ".set(title = 'Total Missions Per Company')"
   ]
  },
  {
   "cell_type": "markdown",
   "id": "08568b32",
   "metadata": {},
   "source": [
    "**Failed Missions Per Year**"
   ]
  },
  {
   "cell_type": "code",
   "execution_count": 83,
   "id": "2a235d66",
   "metadata": {},
   "outputs": [
    {
     "data": {
      "text/plain": [
       "<seaborn.axisgrid.FacetGrid at 0x7fe4ce1f87f0>"
      ]
     },
     "execution_count": 83,
     "metadata": {},
     "output_type": "execute_result"
    },
    {
     "data": {
      "image/png": "[encoded data removed]",
      "text/plain": [
       "<Figure size 360x360 with 1 Axes>"
      ]
     },
     "metadata": {},
     "output_type": "display_data"
    }
   ],
   "source": [
    "sb.displot(\n",
    "    usa_space_missions_dropped[usa_space_missions_dropped['MissionStatus'] == 'Failure'], \n",
    "    x = 'Year', \n",
    "    bins = 15,\n",
    "    color = '#79018C'\n",
    ").set(title = 'Total Failed Missions Per Year')"
   ]
  },
  {
   "cell_type": "markdown",
   "id": "55445bae",
   "metadata": {},
   "source": [
    "**Successful Missions Per Year**"
   ]
  },
  {
   "cell_type": "code",
   "execution_count": 84,
   "id": "17824d6d",
   "metadata": {},
   "outputs": [
    {
     "data": {
      "text/plain": [
       "<seaborn.axisgrid.FacetGrid at 0x7fe4cdbaddc0>"
      ]
     },
     "execution_count": 84,
     "metadata": {},
     "output_type": "execute_result"
    },
    {
     "data": {
      "image/png": "[encoded data removed]",
      "text/plain": [
       "<Figure size 360x360 with 1 Axes>"
      ]
     },
     "metadata": {},
     "output_type": "display_data"
    }
   ],
   "source": [
    "sb.displot(\n",
    "    usa_space_missions_dropped[usa_space_missions_dropped['MissionStatus'] == 'Success'], \n",
    "    x = 'Year', \n",
    "    bins = 15,\n",
    "    color = '#79018C'\n",
    ").set(title = 'Total Successful Missions Per Year')"
   ]
  },
  {
   "cell_type": "markdown",
   "id": "0dc6a1fb",
   "metadata": {},
   "source": [
    "**Most Failed Missions Per Company**"
   ]
  },
  {
   "cell_type": "code",
   "execution_count": 86,
   "id": "fbb94b04",
   "metadata": {},
   "outputs": [
    {
     "data": {
      "text/plain": [
       "<seaborn.axisgrid.FacetGrid at 0x7fe4cdeb67f0>"
      ]
     },
     "execution_count": 86,
     "metadata": {},
     "output_type": "execute_result"
    },
    {
     "data": {
      "image/png": "[encoded data removed]",
      "text/plain": [
       "<Figure size 360x360 with 1 Axes>"
      ]
     },
     "metadata": {},
     "output_type": "display_data"
    }
   ],
   "source": [
    "sb.displot(\n",
    "    usa_space_missions_dropped[usa_space_missions_dropped['MissionStatus'] == 'Failure'], \n",
    "    x = 'Company', \n",
    "    color = '#4C0070'\n",
    ").set(title = 'Total Failed Missions Per Company').set_xticklabels(rotation = 45, horizontalalignment = 'right')\n"
   ]
  },
  {
   "cell_type": "markdown",
   "id": "99966e3b",
   "metadata": {},
   "source": [
    "**Most Successful Missions Per Company**"
   ]
  },
  {
   "cell_type": "code",
   "execution_count": 85,
   "id": "16ed0e0c",
   "metadata": {},
   "outputs": [
    {
     "data": {
      "text/plain": [
       "<seaborn.axisgrid.FacetGrid at 0x7fe4ce37e730>"
      ]
     },
     "execution_count": 85,
     "metadata": {},
     "output_type": "execute_result"
    },
    {
     "data": {
      "image/png": "[encoded data removed]",
      "text/plain": [
       "<Figure size 360x360 with 1 Axes>"
      ]
     },
     "metadata": {},
     "output_type": "display_data"
    }
   ],
   "source": [
    "sb.displot(\n",
    "    usa_space_missions_dropped[usa_space_missions_dropped['MissionStatus'] == 'Success'], \n",
    "    x = 'Company', \n",
    "    color = '#4C0070'\n",
    ").set(title = 'Total Successful Missions Per Company').set_xticklabels(rotation = 45, horizontalalignment = 'right')"
   ]
  },
  {
   "cell_type": "markdown",
   "id": "2a43d07c",
   "metadata": {},
   "source": [
    "**Is there a correlation between Rocket Status and Mission Status?**"
   ]
  },
  {
   "cell_type": "code",
   "execution_count": 63,
   "id": "6509b094",
   "metadata": {},
   "outputs": [],
   "source": [
    "# sb.catplot(x = 'RocketStatus', y = 'MissionStatus', kind = 'strip', s = 5, data = usa_space_missions_dropped)\n",
    "# don't like"
   ]
  },
  {
   "cell_type": "code",
   "execution_count": 68,
   "id": "09bd2e4b",
   "metadata": {},
   "outputs": [
    {
     "data": {
      "text/plain": [
       "[Text(0.5, 1.0, 'Does Mission Status Effect the Rocket Status?')]"
      ]
     },
     "execution_count": 68,
     "metadata": {},
     "output_type": "execute_result"
    },
    {
     "data": {
      "image/png": "[encoded data removed]",
      "text/plain": [
       "<Figure size 432x288 with 1 Axes>"
      ]
     },
     "metadata": {},
     "output_type": "display_data"
    }
   ],
   "source": [
    "sb.countplot(y = 'MissionStatus', hue = 'RocketStatus', palette = 'rocket', data = usa_space_missions_dropped)\\\n",
    ".set(title = 'Does the Mission Status Effect the Rocket Status?')"
   ]
  },
  {
   "cell_type": "markdown",
   "id": "974d4a00",
   "metadata": {},
   "source": [
    "**Number of Retired Rockets Per Company**"
   ]
  },
  {
   "cell_type": "code",
   "execution_count": 81,
   "id": "1706f0bb",
   "metadata": {},
   "outputs": [
    {
     "data": {
      "text/plain": [
       "<seaborn.axisgrid.FacetGrid at 0x7fe4cdeb6520>"
      ]
     },
     "execution_count": 81,
     "metadata": {},
     "output_type": "execute_result"
    },
    {
     "data": {
      "image/png": "[encoded data removed]",
      "text/plain": [
       "<Figure size 360x360 with 1 Axes>"
      ]
     },
     "metadata": {},
     "output_type": "display_data"
    }
   ],
   "source": [
    "sb.displot(\n",
    "    x = 'Company', \n",
    "    color = '#160040',\n",
    "    data =  usa_space_missions_dropped[usa_space_missions_dropped['RocketStatus'] == 'Retired'])\\\n",
    ".set(title = 'Total Number of Retired Rockets Per Company')\\\n",
    ".set_xticklabels(rotation = 45, horizontalalignment = 'right')"
   ]
  },
  {
   "cell_type": "markdown",
   "id": "51678138",
   "metadata": {},
   "source": [
    "**Number of Active Rockets Per Company**"
   ]
  },
  {
   "cell_type": "code",
   "execution_count": 82,
   "id": "69bd1c00",
   "metadata": {},
   "outputs": [
    {
     "data": {
      "text/plain": [
       "<seaborn.axisgrid.FacetGrid at 0x7fe4cdf74e20>"
      ]
     },
     "execution_count": 82,
     "metadata": {},
     "output_type": "execute_result"
    },
    {
     "data": {
      "image/png": "[encoded data removed]",
      "text/plain": [
       "<Figure size 360x360 with 1 Axes>"
      ]
     },
     "metadata": {},
     "output_type": "display_data"
    }
   ],
   "source": [
    "sb.displot(\n",
    "    x = 'Company', \n",
    "    color = '#160040',\n",
    "    data =  usa_space_missions_dropped[usa_space_missions_dropped['RocketStatus'] == 'Active'])\\\n",
    ".set(title = 'Total Number of Active Rockets Per Company')\\\n",
    ".set_xticklabels(rotation = 45, horizontalalignment = 'right')"
   ]
  },
  {
   "cell_type": "code",
   "execution_count": null,
   "id": "1624f74e",
   "metadata": {},
   "outputs": [],
   "source": []
  }
 ],
 "metadata": {
  "kernelspec": {
   "display_name": "PythonData",
   "language": "python",
   "name": "pythondata"
  },
  "language_info": {
   "codemirror_mode": {
    "name": "ipython",
    "version": 3
   },
   "file_extension": ".py",
   "mimetype": "text/x-python",
   "name": "python",
   "nbconvert_exporter": "python",
   "pygments_lexer": "ipython3",
   "version": "3.9.7"
  }
 },
 "nbformat": 4,
 "nbformat_minor": 5
}
